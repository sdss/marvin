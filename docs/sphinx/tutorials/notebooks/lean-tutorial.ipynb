{
 "cells": [
  {
   "cell_type": "markdown",
   "metadata": {},
   "source": [
    "$$\n",
    "\\def\\CC{\\bf C}\n",
    "\\def\\QQ{\\bf Q}\n",
    "\\def\\RR{\\bf R}\n",
    "\\def\\ZZ{\\bf Z}\n",
    "\\def\\NN{\\bf N}\n",
    "$$\n",
    "# Lean Tutorial\n",
    "\n",
    "This tutorial runs through all of the steps for doing a project with\n",
    "Marvin from start-to-finish with no extra fat. We recommend the use of\n",
    "`ipython` or `jupyter notebook` when using Marvin. You can start either\n",
    "from a terminal with `ipython` or `jupyter notebook`.\n",
    "\n",
    "## Project Description\n",
    "\n",
    "**Calculate the \\[NII\\]/H**$\\alpha$ **ratio for star-forming spaxels in\n",
    "galaxies with stellar mass between** $10^{10}$ **and** $10^{11}$ **.**\n",
    "\n",
    "## Sample Selection\n",
    "\n",
    "Marvin uses a simplified query syntax (in both\n",
    "[Web](https://dr15.sdss.org/marvin/search/) and local queries) that\n",
    "understands the MaNGA database schema, so you don't have to write\n",
    "complicated SQL queries.\n",
    "\n",
    "**Goal**: Find galaxies with stellar mass between $10^{10}$ and\n",
    "$10^{11}$.\n",
    "\n",
    "Create the query with `~marvin.tools.query.query.doQuery` and run it\n",
    "(limit to only 3 results for demo purposes):"
   ]
  },
  {
   "cell_type": "code",
   "execution_count": null,
   "metadata": {},
   "outputs": [],
   "source": [
    "from marvin.tools.query import doQuery\n",
    "q, r = doQuery(search_filter='nsa.sersic_logmass >= 10 and nsa.sersic_logmass <= 11', limit=3)"
   ]
  },
  {
   "cell_type": "markdown",
   "metadata": {},
   "source": [
    "**Tip**: see [Marvin Query](marvin-query.ipynb) to learn the basics of\n",
    "querying. See [Example Queries](marvin-query-examples.ipynb) and [Marvin\n",
    "Query Syntax Tutorial](marvin-sqlboolean.ipynb) for help with designing\n",
    "search filters.\n",
    "\n",
    "View the `~marvin.tools.query.results.Results`. You may see a different\n",
    "set of results. That is ok as long as you see some set of results.:"
   ]
  },
  {
   "cell_type": "code",
   "execution_count": null,
   "metadata": {},
   "outputs": [],
   "source": [
    "df = r.toDF()\n",
    "df"
   ]
  },
  {
   "cell_type": "markdown",
   "metadata": {},
   "source": [
    "Convert into `../tools/maps` objects:"
   ]
  },
  {
   "cell_type": "code",
   "execution_count": null,
   "metadata": {},
   "outputs": [],
   "source": [
    "r.convertToTool('maps')\n",
    "r.objects\n",
    "galaxies = r.objects"
   ]
  },
  {
   "cell_type": "markdown",
   "metadata": {},
   "source": [
    "## Get the Maps\n",
    "\n",
    "Alternatively, maybe we already knew our galaxy IDs, which we can use to\n",
    "create `~marvin.tools.maps.Maps` objects:"
   ]
  },
  {
   "cell_type": "code",
   "execution_count": null,
   "metadata": {},
   "outputs": [],
   "source": [
    "from marvin.tools.maps import Maps\n",
    "mangaids = ['1-245458', '1-22301', '1-605884']\n",
    "galaxies = [Maps(mangaid=mangaid) for mangaid in mangaids]"
   ]
  },
  {
   "cell_type": "markdown",
   "metadata": {},
   "source": [
    "Get the H$\\alpha$ maps:"
   ]
  },
  {
   "cell_type": "code",
   "execution_count": null,
   "metadata": {},
   "outputs": [],
   "source": [
    "haflux_maps = [galaxy['emline_gflux_ha_6564'] for galaxy in galaxies]"
   ]
  },
  {
   "cell_type": "markdown",
   "metadata": {},
   "source": [
    "Plot H$\\alpha$ map of the second galaxy:"
   ]
  },
  {
   "cell_type": "code",
   "execution_count": null,
   "metadata": {},
   "outputs": [],
   "source": [
    "haflux_map = haflux_maps[1]\n",
    "fig, ax = haflux_map.plot()"
   ]
  },
  {
   "cell_type": "markdown",
   "metadata": {},
   "source": [
    "## Get Spectrum and Model Fit\n",
    "\n",
    "Let's take a look at the model fits a spaxel. The easiest way is to\n",
    "navigate to the [Galaxy page for\n",
    "7992-6101](https://dr15.sdss.org/marvin/galaxy/7992-6101) and click on\n",
    "the red \"Map/SpecView Off\" button.\n",
    "\n",
    "However, we can also plot the spectrum and model fits in Python. First,\n",
    "we can find the coordinates of a spaxel by moving our cursor around the\n",
    "interactive matplotlib plotting window. When the cursor is over the\n",
    "spaxel of interest, the coordinates will appear in the lower right.\n",
    "\n",
    "Then we can create a `~marvin.tools.spaxel.Spaxel` object by accessing\n",
    "the parent `~marvin.tools.maps.Maps` object from the\n",
    "`~marvin.tools.quantities.Map` object (`haflux_map.maps`) and retrieve\n",
    "the model fit."
   ]
  },
  {
   "cell_type": "code",
   "execution_count": null,
   "metadata": {},
   "outputs": [],
   "source": [
    "spax = galaxies[1].getSpaxel(x=28, y=24, xyorig='lower', cube=True, modelcube=True)"
   ]
  },
  {
   "cell_type": "markdown",
   "metadata": {},
   "source": [
    "Now let's plot the spectrum and model fit:"
   ]
  },
  {
   "cell_type": "code",
   "execution_count": null,
   "metadata": {},
   "outputs": [],
   "source": [
    "import matplotlib.pyplot as plt\n",
    "# Set matplotlib style sheet. Undo with matplotib.rcdefaults().\n",
    "plt.style.use('seaborn-v0_8-darkgrid')"
   ]
  },
  {
   "cell_type": "code",
   "execution_count": null,
   "metadata": {},
   "outputs": [],
   "source": [
    "ax = spax.flux.plot()\n",
    "ax.plot(spax.full_fit.wavelength, spax.full_fit.value)\n",
    "ax.legend(list(ax.get_lines()), ['observed', 'model'])\n",
    "ax.axis([7100, 7500, 0.3, 0.65])"
   ]
  },
  {
   "cell_type": "markdown",
   "metadata": {},
   "source": [
    "## Plot BPT Diagram\n",
    "\n",
    "The `~marvin.tools.maps.Maps.get_bpt` returns masks for spaxels of\n",
    "different ionization types and the Figure object."
   ]
  },
  {
   "cell_type": "code",
   "execution_count": null,
   "metadata": {},
   "outputs": [],
   "source": [
    "masks, fig, axes = galaxies[1].get_bpt()"
   ]
  },
  {
   "cell_type": "markdown",
   "metadata": {},
   "source": [
    "For a detailed description see [BPT Diagrams](https://sdss-marvin.readthedocs.io/en/latest/tools/bpt.html).\n",
    "\n",
    "## Select Star-forming Spaxels\n",
    "\n",
    "Select the star-forming spaxels that are in the star-forming region of\n",
    "each diagnostic diagram (hence the \"global\" keyword):"
   ]
  },
  {
   "cell_type": "code",
   "execution_count": null,
   "metadata": {},
   "outputs": [],
   "source": [
    "sf = masks['sf']['global']"
   ]
  },
  {
   "cell_type": "markdown",
   "metadata": {},
   "source": [
    "Return the complement of the BPT global star-forming mask (`True` means\n",
    "star-forming) using `~` and mark those spaxels as DONOTUSE since they\n",
    "are non-star-forming spaxels."
   ]
  },
  {
   "cell_type": "code",
   "execution_count": null,
   "metadata": {},
   "outputs": [],
   "source": [
    "mask_non_sf = ~sf * haflux_map.pixmask.labels_to_value('DONOTUSE')"
   ]
  },
  {
   "cell_type": "markdown",
   "metadata": {},
   "source": [
    "Do a bitwise OR between the DAP mask and the non-star-forming mask:"
   ]
  },
  {
   "cell_type": "code",
   "execution_count": null,
   "metadata": {},
   "outputs": [],
   "source": [
    "mask = haflux_map.mask | mask_non_sf"
   ]
  },
  {
   "cell_type": "markdown",
   "metadata": {},
   "source": [
    "Plot with our new mask:"
   ]
  },
  {
   "cell_type": "code",
   "execution_count": null,
   "metadata": {},
   "outputs": [],
   "source": [
    "haflux_map.plot(mask=mask)"
   ]
  },
  {
   "cell_type": "markdown",
   "metadata": {},
   "source": [
    "## Plot \\[NII\\]/H$\\alpha$ Flux Ratio for Star-forming Spaxels\n",
    "\n",
    "Calculate \\[NII\\]6585/H$\\alpha$ flux ratio:"
   ]
  },
  {
   "cell_type": "code",
   "execution_count": null,
   "metadata": {},
   "outputs": [],
   "source": [
    "maps_7992_6101 = galaxies[1]\n",
    "nii = maps_7992_6101['emline_gflux_nii_6585']\n",
    "ha = maps_7992_6101['emline_gflux_ha_6564']\n",
    "nii_ha = nii / ha"
   ]
  },
  {
   "cell_type": "markdown",
   "metadata": {},
   "source": [
    "Plot the \\[NII\\]/H$\\alpha$ flux ratio for the star-forming spaxels:"
   ]
  },
  {
   "cell_type": "code",
   "execution_count": null,
   "metadata": {},
   "outputs": [],
   "source": [
    "nii_ha.plot(mask=mask, cblabel='[NII]6585 / Halpha flux ratio')"
   ]
  },
  {
   "cell_type": "markdown",
   "metadata": {},
   "source": [
    "## Next Steps\n",
    "\n",
    "-   [Getting Started](https://sdss-marvin.readthedocs.io/en/stable/getting-started.html) (more general introduction to Marvin)\n",
    "-   [Plotting Tutorial](https://sdss-marvin.readthedocs.io/en/stable/tutorials/plotting-tutorial.html)\n",
    "-   [Download Data](https://sdss-marvin.readthedocs.io/en/stable/tools/downloads.html) (avoid repeating the same remote API calls every time you run your script)"
   ]
  },
  {
   "cell_type": "code",
   "execution_count": null,
   "metadata": {},
   "outputs": [],
   "source": []
  }
 ],
 "metadata": {
  "anaconda-cloud": {},
  "kernelspec": {
   "display_name": "Python 3",
   "language": "python",
   "name": "python3"
  },
  "language_info": {
   "codemirror_mode": {
    "name": "ipython",
    "version": 3
   },
   "file_extension": ".py",
   "mimetype": "text/x-python",
   "name": "python",
   "nbconvert_exporter": "python",
   "pygments_lexer": "ipython3",
   "version": "3.6.4"
  },
  "nbsphinx": {
   "execute": "always"
  }
 },
 "nbformat": 4,
 "nbformat_minor": 2
}
