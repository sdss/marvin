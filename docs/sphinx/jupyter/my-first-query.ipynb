{
 "cells": [
  {
   "cell_type": "markdown",
   "metadata": {},
   "source": [
    "# My First Query\n",
    "\n",
    "One of the most powerful features of Marvin 2.0 is ability to query the newly created DRP and DAP databases. You can do this in two ways:\n",
    "1. via the **[Marvin-web Search page](https://sas.sdss.org/marvin2/search/)** or\n",
    "2. via Python (in the terminal/notebook/script) with **Marvin-tools**.\n",
    "\n",
    "The best part is that both interfaces use the same underlying query structure, so your input search will be the same. Here we will run a few queries with Marvin-tools to learn the basics of how to construct a query and also test drive some of the more advanced features that are unique to the Marvin-tools version of querying."
   ]
  },
  {
   "cell_type": "code",
   "execution_count": 37,
   "metadata": {
    "collapsed": true
   },
   "outputs": [],
   "source": [
    "# Python 2/3 compatibility\n",
    "from __future__ import print_function, division, absolute_import"
   ]
  },
  {
   "cell_type": "code",
   "execution_count": 38,
   "metadata": {
    "collapsed": false
   },
   "outputs": [],
   "source": [
    "from marvin import config\n",
    "config.mode = 'remote'"
   ]
  },
  {
   "cell_type": "code",
   "execution_count": 39,
   "metadata": {
    "collapsed": false
   },
   "outputs": [],
   "source": [
    "from marvin.tools.query import Query"
   ]
  },
  {
   "cell_type": "markdown",
   "metadata": {},
   "source": [
    "Let's search for galaxies with M$_\\star$ > 3 $\\times$ 10$^{11}$ M$_\\odot$.\n",
    "\n",
    "To specify our search parameter, M$_\\star$, we must know the database table and name of the parameter. In this case, MaNGA uses the NASA-Sloan Atlas (NSA) for target selection so we will use the Sersic profile determination for stellar mass, which is the **`sersic_mass`** parameter of the **`nsa`** table, so our search parameter will be **`nsa.sersic_mass`**.\n",
    "\n",
    "Generically, the search parameter will take the form **`table.parameter`**."
   ]
  },
  {
   "cell_type": "code",
   "execution_count": 40,
   "metadata": {
    "collapsed": true
   },
   "outputs": [],
   "source": [
    "myquery1 = 'nsa.sersic_mass > 3e11'"
   ]
  },
  {
   "cell_type": "code",
   "execution_count": 44,
   "metadata": {
    "collapsed": false,
    "scrolled": false
   },
   "outputs": [
    {
     "name": "stdout",
     "output_type": "stream",
     "text": [
      "Your parsed filter is: \n",
      "nsa.sersic_mass>3e11\n",
      "Query(mode='remote', limit=10, sort=None, order='asc')\n",
      "Results contain of a total of 7, only returning the first 7 results\n",
      "Your parsed filter is: \n",
      "nsa.sersic_mass>3e11\n",
      "Results contain of a total of 7, only returning the first 7 results\n",
      "7\n"
     ]
    },
    {
     "data": {
      "text/plain": [
       "u'SELECT mangadatadb.cube.mangaid, mangadatadb.cube.plate, mangadatadb.ifudesign.name, mangasampledb.nsa.sersic_mass \\nFROM mangadatadb.cube JOIN mangadatadb.ifudesign ON mangadatadb.ifudesign.pk = mangadatadb.cube.ifudesign_pk JOIN mangasampledb.manga_target ON mangasampledb.manga_target.pk = mangadatadb.cube.manga_target_pk JOIN mangasampledb.manga_target_to_nsa ON mangasampledb.manga_target.pk = mangasampledb.manga_target_to_nsa.manga_target_pk JOIN mangasampledb.nsa ON mangasampledb.nsa.pk = mangasampledb.manga_target_to_nsa.nsa_pk JOIN mangadatadb.pipeline_info AS drpalias ON drpalias.pk = mangadatadb.cube.pipeline_info_pk \\nWHERE mangasampledb.nsa.sersic_mass > 3e+11 AND drpalias.pk = 21'"
      ]
     },
     "execution_count": 44,
     "metadata": {},
     "output_type": "execute_result"
    }
   ],
   "source": [
    "q1 = Query(searchfilter=myquery1)\n",
    "print(q1)\n",
    "r1 = q1.run()\n",
    "from marvin.tools.query import doQuery\n",
    "q, r = doQuery(searchfilter=myquery1)\n",
    "print(r.totalcount)\n",
    "r1.showQuery()"
   ]
  },
  {
   "cell_type": "markdown",
   "metadata": {},
   "source": [
    "Running the query produces a **`Results`** object (**`r1`**):"
   ]
  },
  {
   "cell_type": "code",
   "execution_count": 42,
   "metadata": {
    "collapsed": false
   },
   "outputs": [
    {
     "name": "stdout",
     "output_type": "stream",
     "text": [
      "total count 7\n"
     ]
    },
    {
     "data": {
      "text/plain": [
       "[NamedTuple(mangaid=u'1-377378', plate=8132, name=u'6102', sersic_mass=513574535168.0),\n",
       " NamedTuple(mangaid=u'1-377841', plate=8133, name=u'12705', sersic_mass=317070770176.0),\n",
       " NamedTuple(mangaid=u'1-338090', plate=8131, name=u'3701', sersic_mass=1150581604352.0),\n",
       " NamedTuple(mangaid=u'1-217041', plate=8247, name=u'9102', sersic_mass=328593276928.0),\n",
       " NamedTuple(mangaid=u'1-134760', plate=8555, name=u'12701', sersic_mass=561190207488.0),\n",
       " NamedTuple(mangaid=u'1-256301', plate=8258, name=u'9102', sersic_mass=7116798033920.0),\n",
       " NamedTuple(mangaid=u'1-278075', plate=8257, name=u'6104', sersic_mass=369127456768.0)]"
      ]
     },
     "execution_count": 42,
     "metadata": {},
     "output_type": "execute_result"
    }
   ],
   "source": [
    "# show results\n",
    "print('total count', r1.totalcount)\n",
    "r1.results"
   ]
  },
  {
   "cell_type": "markdown",
   "metadata": {},
   "source": [
    "We will learn how to use the features of our **`Results`** object a little bit later, but first let's revise our search to see how more complex search queries work.\n",
    "\n",
    "## Multiple Search Criteria\n",
    "\n",
    "Let's add to our search to find only galaxies with a redshift less than 0.1.\n",
    "\n",
    "Redshift is the **`z`** parameter and is also in the **`nsa`** table, so its full search parameter designation is **`nsa.z`**."
   ]
  },
  {
   "cell_type": "code",
   "execution_count": 46,
   "metadata": {
    "collapsed": true
   },
   "outputs": [],
   "source": [
    "myquery2 = 'nsa.sersic_mass > 3e11 AND nsa.z < 0.1'"
   ]
  },
  {
   "cell_type": "code",
   "execution_count": 47,
   "metadata": {
    "collapsed": false,
    "scrolled": true
   },
   "outputs": [
    {
     "name": "stdout",
     "output_type": "stream",
     "text": [
      "Your parsed filter is: \n",
      "and_(nsa.sersic_mass>3e11, nsa.z<0.1)\n",
      "Results contain of a total of 3, only returning the first 3 results\n"
     ]
    }
   ],
   "source": [
    "q2 = Query(searchfilter=myquery2)\n",
    "r2 = q2.run()"
   ]
  },
  {
   "cell_type": "code",
   "execution_count": 68,
   "metadata": {
    "collapsed": false,
    "scrolled": true
   },
   "outputs": [
    {
     "name": "stdout",
     "output_type": "stream",
     "text": [
      "total count 3\n"
     ]
    },
    {
     "data": {
      "text/plain": [
       "[NamedTuple(mangaid=u'1-377378', plate=8132, name=u'6102', sersic_mass=513574535168.0, z=0.0265520866960287),\n",
       " NamedTuple(mangaid=u'1-338090', plate=8131, name=u'3701', sersic_mass=1150581604352.0, z=0.0806723535060883),\n",
       " NamedTuple(mangaid=u'1-256301', plate=8258, name=u'9102', sersic_mass=7116798033920.0, z=0.0961406528949738)]"
      ]
     },
     "execution_count": 68,
     "metadata": {},
     "output_type": "execute_result"
    }
   ],
   "source": [
    "print('total count', r2.totalcount)\n",
    "r2.results"
   ]
  },
  {
   "cell_type": "markdown",
   "metadata": {},
   "source": [
    "## Compound Search Statements\n",
    "\n",
    "We were hoping for a few more than 3 galaxies, so let's try to increase our search by broadening the criteria to also include galaxies with 127 fiber IFUs and a b/a ratio of at least 0.95.\n",
    "\n",
    "To find 127 fiber IFUs, we'll use the **`name`** parameter of the **`ifu`** table, which means the full search parameter is **`ifu.name`**. However, **`ifu.name`** returns the IFU design name, such as `12701`, so we need to to set the value to `127*`.\n",
    "\n",
    "The b/a ratio is in **`nsa`** table as the **`ba90`** parameter.\n",
    "\n",
    "We're also going to join this to or previous query with an **`OR`** operator and use parentheses to group our individual search statements into a compound search statement."
   ]
  },
  {
   "cell_type": "code",
   "execution_count": 58,
   "metadata": {
    "collapsed": true
   },
   "outputs": [],
   "source": [
    "myquery3 = 'nsa.sersic_mass > 3e11 AND (nsa.z < 0.1 OR ifu.name=127*) AND nsa.ba90 >= 0.95'"
   ]
  },
  {
   "cell_type": "code",
   "execution_count": 59,
   "metadata": {
    "collapsed": false,
    "scrolled": true
   },
   "outputs": [
    {
     "name": "stdout",
     "output_type": "stream",
     "text": [
      "Your parsed filter is: \n",
      "and_(nsa.sersic_mass>3e11, or_(nsa.z<0.1, ifu.name=127*), nsa.ba90>=0.95)\n",
      "Results contain of a total of 1, only returning the first 1 results\n"
     ]
    }
   ],
   "source": [
    "q3 = Query(searchfilter=myquery3)\n",
    "r3 = q3.run()"
   ]
  },
  {
   "cell_type": "code",
   "execution_count": 60,
   "metadata": {
    "collapsed": false,
    "scrolled": true
   },
   "outputs": [
    {
     "name": "stdout",
     "output_type": "stream",
     "text": [
      "totalcount 1\n"
     ]
    },
    {
     "data": {
      "text/plain": [
       "[NamedTuple(mangaid=u'1-256301', plate=8258, name=u'9102', sersic_mass=7116798033920.0, ba90=0.96965616941452, z=0.0961406528949738)]"
      ]
     },
     "execution_count": 60,
     "metadata": {},
     "output_type": "execute_result"
    }
   ],
   "source": [
    "print('totalcount', r3.totalcount)\n",
    "r3.results"
   ]
  },
  {
   "cell_type": "markdown",
   "metadata": {},
   "source": [
    "## Design Your Own Search\n",
    "\n",
    "OK, now it's your turn to try designing a search.\n",
    "\n",
    "**Exercise**: Write a search filter that will find galaxies with a redshift less than 0.02 that were observed with the 1901 IFU?"
   ]
  },
  {
   "cell_type": "code",
   "execution_count": 63,
   "metadata": {
    "collapsed": false
   },
   "outputs": [
    {
     "name": "stdout",
     "output_type": "stream",
     "text": [
      "Your parsed filter is: \n",
      "and_(nsa.z<0.02, ifu.name==1901)\n",
      "Results contain of a total of 8, only returning the first 8 results\n"
     ]
    },
    {
     "data": {
      "text/plain": [
       "[NamedTuple(mangaid=u'1-22438', plate=7992, name=u'1901', z=0.016383046284318),\n",
       " NamedTuple(mangaid=u'1-113520', plate=7815, name=u'1901', z=0.0167652331292629),\n",
       " NamedTuple(mangaid=u'1-113698', plate=8618, name=u'1901', z=0.0167444702237844),\n",
       " NamedTuple(mangaid=u'1-134004', plate=8486, name=u'1901', z=0.0185601413249969),\n",
       " NamedTuple(mangaid=u'1-155903', plate=8439, name=u'1901', z=0.0163660924881697),\n",
       " NamedTuple(mangaid=u'1-167079', plate=8459, name=u'1901', z=0.0157109703868628),\n",
       " NamedTuple(mangaid=u'1-209729', plate=8549, name=u'1901', z=0.0195561610162258),\n",
       " NamedTuple(mangaid=u'1-277339', plate=8254, name=u'1901', z=0.0192211158573627)]"
      ]
     },
     "execution_count": 63,
     "metadata": {},
     "output_type": "execute_result"
    }
   ],
   "source": [
    "myquery = 'nsa.z < 0.02 and ifu.name == 1901'\n",
    "q = Query(searchfilter=myquery)\n",
    "r = q.run()\n",
    "r.results"
   ]
  },
  {
   "cell_type": "markdown",
   "metadata": {},
   "source": [
    "You should get 8 results:\n",
    "\n",
    "`[NamedTuple(mangaid='1-22438', plate=7992, name='1901', z=0.016383046284318),\n",
    " NamedTuple(mangaid='1-113520', plate=7815, name='1901', z=0.0167652331292629),\n",
    " NamedTuple(mangaid='1-113698', plate=8618, name='1901', z=0.0167444702237844),\n",
    " NamedTuple(mangaid='1-134004', plate=8486, name='1901', z=0.0185601413249969),\n",
    " NamedTuple(mangaid='1-155903', plate=8439, name='1901', z=0.0163660924881697),\n",
    " NamedTuple(mangaid='1-167079', plate=8459, name='1901', z=0.0157109703868628),\n",
    " NamedTuple(mangaid='1-209729', plate=8549, name='1901', z=0.0195561610162258),\n",
    " NamedTuple(mangaid='1-277339', plate=8254, name='1901', z=0.0192211158573627)]`"
   ]
  },
  {
   "cell_type": "markdown",
   "metadata": {},
   "source": [
    "## Finding the Available Parameters\n",
    "Now you might want to go out and try all of the interesting queries that you've been saving up, but you don't know what the parameters are called or what database table they are in. \n",
    "\n",
    "You can find all of the availabale parameters by:\n",
    "1. clicking on in the **Return Parameters** dropdown menu on the left side of the **[Marvin-web Search page](https://sas.sdss.org/marvin2/search/)**,\n",
    "2. reading the **[Marvin Docs page](https://api.sdss.org/doc/manga/marvin/refactor/query_params.html#marvin-query-parameters)**, or\n",
    "3. via **Marvin-tools** (see next two cells)"
   ]
  },
  {
   "cell_type": "code",
   "execution_count": 45,
   "metadata": {
    "collapsed": false
   },
   "outputs": [
    {
     "data": {
      "text/plain": [
       "[u'cube_header.cube',\n",
       " u'cube_header.header',\n",
       " u'maskbit.bit',\n",
       " u'maskbit.description',\n",
       " u'maskbit.flag',\n",
       " u'maskbit.label',\n",
       " u'maskbit_labels.flag',\n",
       " u'maskbit_labels.labels',\n",
       " u'maskbit_labels.maskbit',\n",
       " u'binid.binid',\n",
       " u'binid.index',\n",
       " u'binmode.name',\n",
       " u'binmode.structures',\n",
       " u'bintype.name',\n",
       " u'bintype.structures',\n",
       " u'current_default.file',\n",
       " u'current_default.filename',\n",
       " u'current_default.filepath',\n",
       " u'emline.file',\n",
       " u'emline.ivar',\n",
       " u'emline.mask',\n",
       " u'emline.parameter',\n",
       " u'emline.type',\n",
       " u'emline.value',\n",
       " u'emline_parameter.emlines',\n",
       " u'emline_parameter.name',\n",
       " u'emline_parameter.unit',\n",
       " u'emline_type.channel',\n",
       " u'emline_type.emlines',\n",
       " u'emline_type.name',\n",
       " u'emline_type.rest_wavelength',\n",
       " u'executionplan.comments',\n",
       " u'executionplan.id',\n",
       " u'executionplan.structures',\n",
       " u'extcol.hdus',\n",
       " u'extcol.name',\n",
       " u'extname.hdus',\n",
       " u'extname.name',\n",
       " u'exttype.hdus',\n",
       " u'exttype.name',\n",
       " u'file.cube',\n",
       " u'file.current_default',\n",
       " u'file.emlines',\n",
       " u'file.filename',\n",
       " u'file.filepath',\n",
       " u'file.filetype',\n",
       " u'file.hdus',\n",
       " u'file.num_ext',\n",
       " u'file.pipelineinfo',\n",
       " u'file.specindices',\n",
       " u'file.stellarkins',\n",
       " u'file.stellarpops',\n",
       " u'file.structure',\n",
       " u'filetype.files',\n",
       " u'filetype.value',\n",
       " u'hdu.extcols',\n",
       " u'hdu.extname',\n",
       " u'hdu.extno',\n",
       " u'hdu.exttype',\n",
       " u'hdu.file',\n",
       " u'hdu.header_values',\n",
       " u'header_keyword.name',\n",
       " u'header_keyword.values',\n",
       " u'header_value.comment',\n",
       " u'header_value.hdus',\n",
       " u'header_value.index',\n",
       " u'header_value.keyword',\n",
       " u'header_value.value',\n",
       " u'specindex.file',\n",
       " u'specindex.ivar',\n",
       " u'specindex.mask',\n",
       " u'specindex.type',\n",
       " u'specindex.value',\n",
       " u'specindex_type.channel',\n",
       " u'specindex_type.name',\n",
       " u'specindex_type.specindices',\n",
       " u'specindex_type.unit',\n",
       " u'stellar_kin.file',\n",
       " u'stellar_kin.ivar',\n",
       " u'stellar_kin.mask',\n",
       " u'stellar_kin.parameter',\n",
       " u'stellar_kin.type',\n",
       " u'stellar_kin.value',\n",
       " u'stellar_kin_parameter.name',\n",
       " u'stellar_kin_parameter.stellarkins',\n",
       " u'stellar_kin_parameter.unit',\n",
       " u'stellar_kin_type.channel',\n",
       " u'stellar_kin_type.name',\n",
       " u'stellar_kin_type.stellarkins',\n",
       " u'stellar_pop.file',\n",
       " u'stellar_pop.ivar',\n",
       " u'stellar_pop.mask',\n",
       " u'stellar_pop.parameter',\n",
       " u'stellar_pop.type',\n",
       " u'stellar_pop.value',\n",
       " u'stellar_pop_parameter.name',\n",
       " u'stellar_pop_parameter.stellarpops',\n",
       " u'stellar_pop_parameter.unit',\n",
       " u'stellar_pop_type.channel',\n",
       " u'stellar_pop_type.name',\n",
       " u'stellar_pop_type.stellarpops',\n",
       " u'structure.binid',\n",
       " u'structure.binmode',\n",
       " u'structure.bintype',\n",
       " u'structure.executionplan',\n",
       " u'structure.files',\n",
       " u'structure.template_kin',\n",
       " u'structure.template_pop',\n",
       " u'template.id',\n",
       " u'template.name',\n",
       " u'template.structures_kin',\n",
       " u'template.structures_pop',\n",
       " u'cart.cubes',\n",
       " u'cart.id',\n",
       " u'cube.carts',\n",
       " u'cube.collist',\n",
       " u'cube.cols',\n",
       " u'cube.dapfiles',\n",
       " u'cube.dec',\n",
       " u'cube.designid',\n",
       " u'cube.hdr',\n",
       " u'cube.headervals',\n",
       " u'cube.ifu',\n",
       " u'cube.mangaid',\n",
       " u'cube.pipelineInfo',\n",
       " u'cube.plate',\n",
       " u'cube.plateifu',\n",
       " u'cube.ra',\n",
       " u'cube.rssfibers',\n",
       " u'cube.sample',\n",
       " u'cube.shape',\n",
       " u'cube.spaxels',\n",
       " u'cube.specres',\n",
       " u'cube.target',\n",
       " u'cube.testrssfibers',\n",
       " u'cube.wavelength',\n",
       " u'cube.wcs',\n",
       " u'cube.xfocal',\n",
       " u'cube.yfocal',\n",
       " u'cube_shape.cubes',\n",
       " u'cube_shape.indices',\n",
       " u'cube_shape.size',\n",
       " u'cube_shape.total',\n",
       " u'fiber_type.fibers',\n",
       " u'fiber_type.label',\n",
       " u'fibers.dist_mm',\n",
       " u'fibers.fiberid',\n",
       " u'fibers.fibertype',\n",
       " u'fibers.fnum',\n",
       " u'fibers.ifu',\n",
       " u'fibers.ring',\n",
       " u'fibers.rssfibers',\n",
       " u'fibers.specfibid',\n",
       " u'fibers.targettype',\n",
       " u'fibers.xpmm',\n",
       " u'fibers.ypmm',\n",
       " u'fits_header_keyword.label',\n",
       " u'fits_header_keyword.value',\n",
       " u'fits_header_value.comment',\n",
       " u'fits_header_value.cube',\n",
       " u'fits_header_value.index',\n",
       " u'fits_header_value.keyword',\n",
       " u'fits_header_value.value',\n",
       " u'ifudesign.blocks',\n",
       " u'ifudesign.cubes',\n",
       " u'ifudesign.fibers',\n",
       " u'ifudesign.maxring',\n",
       " u'ifudesign.name',\n",
       " u'ifudesign.nblocks',\n",
       " u'ifudesign.nfiber',\n",
       " u'ifudesign.nsky',\n",
       " u'ifudesign.specid',\n",
       " u'pipeline_completion_status.label',\n",
       " u'pipeline_completion_status.pipeinfo',\n",
       " u'pipeline_info.completionStatus',\n",
       " u'pipeline_info.cubes',\n",
       " u'pipeline_info.dapfiles',\n",
       " u'pipeline_info.name',\n",
       " u'pipeline_info.stage',\n",
       " u'pipeline_info.version',\n",
       " u'pipeline_name.label',\n",
       " u'pipeline_name.pipeinfo',\n",
       " u'pipeline_stage.label',\n",
       " u'pipeline_stage.pipeinfo',\n",
       " u'pipeline_version.pipeinfo',\n",
       " u'pipeline_version.version',\n",
       " u'rssfiber.collist',\n",
       " u'rssfiber.cols',\n",
       " u'rssfiber.cube',\n",
       " u'rssfiber.exposure_no',\n",
       " u'rssfiber.fiber',\n",
       " u'rssfiber.flux',\n",
       " u'rssfiber.ivar',\n",
       " u'rssfiber.mask',\n",
       " u'rssfiber.mjd',\n",
       " u'rssfiber.xpos',\n",
       " u'rssfiber.ypos',\n",
       " u'sample.collist',\n",
       " u'sample.cols',\n",
       " u'sample.cube',\n",
       " u'sample.field',\n",
       " u'sample.iauname',\n",
       " u'sample.ifu_dec',\n",
       " u'sample.ifu_ra',\n",
       " u'sample.ifudesignsize',\n",
       " u'sample.ifudesignwrongsize',\n",
       " u'sample.ifutargetsize',\n",
       " u'sample.manga_tileid',\n",
       " u'sample.nsa_absmag_el_f',\n",
       " u'sample.nsa_absmag_el_g',\n",
       " u'sample.nsa_absmag_el_i',\n",
       " u'sample.nsa_absmag_el_n',\n",
       " u'sample.nsa_absmag_el_r',\n",
       " u'sample.nsa_absmag_el_u',\n",
       " u'sample.nsa_absmag_el_z',\n",
       " u'sample.nsa_absmag_f',\n",
       " u'sample.nsa_absmag_g',\n",
       " u'sample.nsa_absmag_i',\n",
       " u'sample.nsa_absmag_n',\n",
       " u'sample.nsa_absmag_r',\n",
       " u'sample.nsa_absmag_u',\n",
       " u'sample.nsa_absmag_z',\n",
       " u'sample.nsa_amivar_el_f',\n",
       " u'sample.nsa_amivar_el_g',\n",
       " u'sample.nsa_amivar_el_i',\n",
       " u'sample.nsa_amivar_el_n',\n",
       " u'sample.nsa_amivar_el_r',\n",
       " u'sample.nsa_amivar_el_u',\n",
       " u'sample.nsa_amivar_el_z',\n",
       " u'sample.nsa_ba',\n",
       " u'sample.nsa_extinction_f',\n",
       " u'sample.nsa_extinction_g',\n",
       " u'sample.nsa_extinction_i',\n",
       " u'sample.nsa_extinction_n',\n",
       " u'sample.nsa_extinction_r',\n",
       " u'sample.nsa_extinction_u',\n",
       " u'sample.nsa_extinction_z',\n",
       " u'sample.nsa_id',\n",
       " u'sample.nsa_id100',\n",
       " u'sample.nsa_inclination',\n",
       " u'sample.nsa_logmstar',\n",
       " u'sample.nsa_logmstar_el',\n",
       " u'sample.nsa_mstar',\n",
       " u'sample.nsa_mstar_el',\n",
       " u'sample.nsa_petro_th50',\n",
       " u'sample.nsa_petro_th50_el',\n",
       " u'sample.nsa_petroflux_el_f',\n",
       " u'sample.nsa_petroflux_el_g',\n",
       " u'sample.nsa_petroflux_el_i',\n",
       " u'sample.nsa_petroflux_el_ivar_f',\n",
       " u'sample.nsa_petroflux_el_ivar_g',\n",
       " u'sample.nsa_petroflux_el_ivar_i',\n",
       " u'sample.nsa_petroflux_el_ivar_n',\n",
       " u'sample.nsa_petroflux_el_ivar_r',\n",
       " u'sample.nsa_petroflux_el_ivar_u',\n",
       " u'sample.nsa_petroflux_el_ivar_z',\n",
       " u'sample.nsa_petroflux_el_n',\n",
       " u'sample.nsa_petroflux_el_r',\n",
       " u'sample.nsa_petroflux_el_u',\n",
       " u'sample.nsa_petroflux_el_z',\n",
       " u'sample.nsa_petroflux_f',\n",
       " u'sample.nsa_petroflux_g',\n",
       " u'sample.nsa_petroflux_i',\n",
       " u'sample.nsa_petroflux_ivar_f',\n",
       " u'sample.nsa_petroflux_ivar_g',\n",
       " u'sample.nsa_petroflux_ivar_i',\n",
       " u'sample.nsa_petroflux_ivar_n',\n",
       " u'sample.nsa_petroflux_ivar_r',\n",
       " u'sample.nsa_petroflux_ivar_u',\n",
       " u'sample.nsa_petroflux_ivar_z',\n",
       " u'sample.nsa_petroflux_n',\n",
       " u'sample.nsa_petroflux_r',\n",
       " u'sample.nsa_petroflux_u',\n",
       " u'sample.nsa_petroflux_z',\n",
       " u'sample.nsa_phi',\n",
       " u'sample.nsa_redshift',\n",
       " u'sample.nsa_sersic_ba',\n",
       " u'sample.nsa_sersic_n',\n",
       " u'sample.nsa_sersic_phi',\n",
       " u'sample.nsa_sersic_th50',\n",
       " u'sample.nsa_sersicflux_f',\n",
       " u'sample.nsa_sersicflux_g',\n",
       " u'sample.nsa_sersicflux_i',\n",
       " u'sample.nsa_sersicflux_ivar_f',\n",
       " u'sample.nsa_sersicflux_ivar_g',\n",
       " u'sample.nsa_sersicflux_ivar_i',\n",
       " u'sample.nsa_sersicflux_ivar_n',\n",
       " u'sample.nsa_sersicflux_ivar_r',\n",
       " u'sample.nsa_sersicflux_ivar_u',\n",
       " u'sample.nsa_sersicflux_ivar_z',\n",
       " u'sample.nsa_sersicflux_n',\n",
       " u'sample.nsa_sersicflux_r',\n",
       " u'sample.nsa_sersicflux_u',\n",
       " u'sample.nsa_sersicflux_z',\n",
       " u'sample.nsa_vdisp',\n",
       " u'sample.nsa_version',\n",
       " u'sample.nsa_zdist',\n",
       " u'sample.run',\n",
       " u'sample.target_dec',\n",
       " u'sample.target_ra',\n",
       " u'slitblock.blockid',\n",
       " u'slitblock.ifus',\n",
       " u'slitblock.nfiber',\n",
       " u'slitblock.specblockid',\n",
       " u'spaxel.collist',\n",
       " u'spaxel.cols',\n",
       " u'spaxel.cube',\n",
       " u'spaxel.flux',\n",
       " u'spaxel.ivar',\n",
       " u'spaxel.mask',\n",
       " u'spaxel.x',\n",
       " u'spaxel.y',\n",
       " u'target_type.fibers',\n",
       " u'target_type.label',\n",
       " u'test_rssfiber.cube',\n",
       " u'test_rssfiber.flux',\n",
       " u'test_spaxel.flux',\n",
       " u'test_spaxel.flux_json',\n",
       " u'test_spaxel.ivar',\n",
       " u'test_spaxel.mask',\n",
       " u'wavelength.bintype',\n",
       " u'wavelength.collist',\n",
       " u'wavelength.cols',\n",
       " u'wavelength.cube',\n",
       " u'wavelength.wavelength',\n",
       " u'wcs.cd1_1',\n",
       " u'wcs.cd2_2',\n",
       " u'wcs.cd3_3',\n",
       " u'wcs.collist',\n",
       " u'wcs.cols',\n",
       " u'wcs.crpix1',\n",
       " u'wcs.crpix2',\n",
       " u'wcs.crpix3',\n",
       " u'wcs.crval1',\n",
       " u'wcs.crval2',\n",
       " u'wcs.crval3',\n",
       " u'wcs.ctype1',\n",
       " u'wcs.ctype2',\n",
       " u'wcs.ctype3',\n",
       " u'wcs.cube',\n",
       " u'wcs.cunit1',\n",
       " u'wcs.cunit2',\n",
       " u'wcs.cunit3',\n",
       " u'wcs.errdata',\n",
       " u'wcs.extname',\n",
       " u'wcs.hduclas1',\n",
       " u'wcs.hduclas2',\n",
       " u'wcs.hduclass',\n",
       " u'wcs.naxis1',\n",
       " u'wcs.naxis2',\n",
       " u'wcs.naxis3',\n",
       " u'wcs.qualdata',\n",
       " u'anime.anime',\n",
       " u'anime.characters',\n",
       " u'catalogue.catalogue_name',\n",
       " u'catalogue.currentCatalogue',\n",
       " u'catalogue.match_description',\n",
       " u'catalogue.matched',\n",
       " u'catalogue.version',\n",
       " u'current_catalogue.catalogue',\n",
       " u'manga_target.NSA_objects',\n",
       " u'manga_target.character',\n",
       " u'manga_target.cubes',\n",
       " u'manga_target.mangaid',\n",
       " u'nsa.aid',\n",
       " u'nsa.asymmetry',\n",
       " u'nsa.ba50',\n",
       " u'nsa.ba90',\n",
       " u'nsa.bastokes',\n",
       " u'nsa.camcol',\n",
       " u'nsa.clumpy',\n",
       " u'nsa.dec',\n",
       " u'nsa.deccat',\n",
       " u'nsa.dflags',\n",
       " u'nsa.dversion',\n",
       " u'nsa.extinction',\n",
       " u'nsa.fiberflux',\n",
       " u'nsa.fiberflux_ivar',\n",
       " u'nsa.fiberid',\n",
       " u'nsa.field',\n",
       " u'nsa.hybridProperty',\n",
       " u'nsa.ialfalfa',\n",
       " u'nsa.iauname',\n",
       " u'nsa.in_dr7_lss',\n",
       " u'nsa.ined',\n",
       " u'nsa.isdss',\n",
       " u'nsa.isixdf',\n",
       " u'nsa.itwodf',\n",
       " u'nsa.izcat',\n",
       " u'nsa.mag',\n",
       " u'nsa.mangaTargets',\n",
       " u'nsa.mjd',\n",
       " u'nsa.nprof',\n",
       " u'nsa.nsaid',\n",
       " u'nsa.petro_absmag_el',\n",
       " u'nsa.petro_amivar_el',\n",
       " u'nsa.petro_b1000_el',\n",
       " u'nsa.petro_b300_el',\n",
       " u'nsa.petro_ba_el',\n",
       " u'nsa.petro_kcoeff_el',\n",
       " u'nsa.petro_kcorrect_el',\n",
       " u'nsa.petro_mass_el',\n",
       " u'nsa.petro_mets_el',\n",
       " u'nsa.petro_mtol_el',\n",
       " u'nsa.petro_nmgy_el',\n",
       " u'nsa.petro_nmgy_ivar_el',\n",
       " u'nsa.petro_ok_el',\n",
       " u'nsa.petro_phi_el',\n",
       " u'nsa.petro_rnmgy_el',\n",
       " u'nsa.petroflux',\n",
       " u'nsa.petroflux_el',\n",
       " u'nsa.petroflux_ivar',\n",
       " u'nsa.petroflux_ivar_el',\n",
       " u'nsa.petroth50',\n",
       " u'nsa.petroth50_el',\n",
       " u'nsa.petroth90',\n",
       " u'nsa.petroth90_el',\n",
       " u'nsa.petrotheta',\n",
       " u'nsa.petrotheta_el',\n",
       " u'nsa.phi50',\n",
       " u'nsa.phi90',\n",
       " u'nsa.phistokes',\n",
       " u'nsa.pid',\n",
       " u'nsa.plate',\n",
       " u'nsa.platequality',\n",
       " u'nsa.plug_dec',\n",
       " u'nsa.plug_ra',\n",
       " u'nsa.profmean',\n",
       " u'nsa.profmean_ivar',\n",
       " u'nsa.proftheta',\n",
       " u'nsa.programname',\n",
       " u'nsa.qstokes',\n",
       " u'nsa.ra',\n",
       " u'nsa.racat',\n",
       " u'nsa.rerun',\n",
       " u'nsa.run',\n",
       " u'nsa.sersic_absmag',\n",
       " u'nsa.sersic_amivar',\n",
       " u'nsa.sersic_b1000',\n",
       " u'nsa.sersic_b300',\n",
       " u'nsa.sersic_ba',\n",
       " u'nsa.sersic_kcoeff',\n",
       " u'nsa.sersic_kcorrect',\n",
       " u'nsa.sersic_mass',\n",
       " u'nsa.sersic_mets',\n",
       " u'nsa.sersic_mtol',\n",
       " u'nsa.sersic_n',\n",
       " u'nsa.sersic_nmgy',\n",
       " u'nsa.sersic_nmgy_ivar',\n",
       " u'nsa.sersic_ok',\n",
       " u'nsa.sersic_phi',\n",
       " u'nsa.sersic_rnmgy',\n",
       " u'nsa.sersic_th50',\n",
       " u'nsa.sersicflux',\n",
       " u'nsa.sersicflux_ivar',\n",
       " u'nsa.size',\n",
       " u'nsa.subdir',\n",
       " u'nsa.survey',\n",
       " u'nsa.tile',\n",
       " u'nsa.ustokes',\n",
       " u'nsa.xcen',\n",
       " u'nsa.xpos',\n",
       " u'nsa.ycen',\n",
       " u'nsa.ypos',\n",
       " u'nsa.z',\n",
       " u'nsa.zdist',\n",
       " u'nsa.zsdssline',\n",
       " u'nsa.zsrc']"
      ]
     },
     "execution_count": 45,
     "metadata": {},
     "output_type": "execute_result"
    }
   ],
   "source": [
    "# You might have to do an svn update to get this to work (otherwise try the next cell)\n",
    "q = Query()\n",
    "q.get_available_params()"
   ]
  },
  {
   "cell_type": "code",
   "execution_count": 32,
   "metadata": {
    "collapsed": false
   },
   "outputs": [
    {
     "name": "stdout",
     "output_type": "stream",
     "text": [
      "[u'cube_header.cube',\n",
      " u'cube_header.header',\n",
      " u'maskbit.bit',\n",
      " u'maskbit.description',\n",
      " u'maskbit.flag',\n",
      " u'maskbit.label',\n",
      " u'maskbit_labels.flag',\n",
      " u'maskbit_labels.labels',\n",
      " u'maskbit_labels.maskbit',\n",
      " u'binid.binid',\n",
      " u'binid.index',\n",
      " u'binmode.name',\n",
      " u'binmode.structures',\n",
      " u'bintype.name',\n",
      " u'bintype.structures',\n",
      " u'current_default.file',\n",
      " u'current_default.filename',\n",
      " u'current_default.filepath',\n",
      " u'emline.file',\n",
      " u'emline.ivar',\n",
      " u'emline.mask',\n",
      " u'emline.parameter',\n",
      " u'emline.type',\n",
      " u'emline.value',\n",
      " u'emline_parameter.emlines',\n",
      " u'emline_parameter.name',\n",
      " u'emline_parameter.unit',\n",
      " u'emline_type.channel',\n",
      " u'emline_type.emlines',\n",
      " u'emline_type.name',\n",
      " u'emline_type.rest_wavelength',\n",
      " u'executionplan.comments',\n",
      " u'executionplan.id',\n",
      " u'executionplan.structures',\n",
      " u'extcol.hdus',\n",
      " u'extcol.name',\n",
      " u'extname.hdus',\n",
      " u'extname.name',\n",
      " u'exttype.hdus',\n",
      " u'exttype.name',\n",
      " u'file.cube',\n",
      " u'file.current_default',\n",
      " u'file.emlines',\n",
      " u'file.filename',\n",
      " u'file.filepath',\n",
      " u'file.filetype',\n",
      " u'file.hdus',\n",
      " u'file.num_ext',\n",
      " u'file.pipelineinfo',\n",
      " u'file.specindices',\n",
      " u'file.stellarkins',\n",
      " u'file.stellarpops',\n",
      " u'file.structure',\n",
      " u'filetype.files',\n",
      " u'filetype.value',\n",
      " u'hdu.extcols',\n",
      " u'hdu.extname',\n",
      " u'hdu.extno',\n",
      " u'hdu.exttype',\n",
      " u'hdu.file',\n",
      " u'hdu.header_values',\n",
      " u'header_keyword.name',\n",
      " u'header_keyword.values',\n",
      " u'header_value.comment',\n",
      " u'header_value.hdus',\n",
      " u'header_value.index',\n",
      " u'header_value.keyword',\n",
      " u'header_value.value',\n",
      " u'specindex.file',\n",
      " u'specindex.ivar',\n",
      " u'specindex.mask',\n",
      " u'specindex.type',\n",
      " u'specindex.value',\n",
      " u'specindex_type.channel',\n",
      " u'specindex_type.name',\n",
      " u'specindex_type.specindices',\n",
      " u'specindex_type.unit',\n",
      " u'stellar_kin.file',\n",
      " u'stellar_kin.ivar',\n",
      " u'stellar_kin.mask',\n",
      " u'stellar_kin.parameter',\n",
      " u'stellar_kin.type',\n",
      " u'stellar_kin.value',\n",
      " u'stellar_kin_parameter.name',\n",
      " u'stellar_kin_parameter.stellarkins',\n",
      " u'stellar_kin_parameter.unit',\n",
      " u'stellar_kin_type.channel',\n",
      " u'stellar_kin_type.name',\n",
      " u'stellar_kin_type.stellarkins',\n",
      " u'stellar_pop.file',\n",
      " u'stellar_pop.ivar',\n",
      " u'stellar_pop.mask',\n",
      " u'stellar_pop.parameter',\n",
      " u'stellar_pop.type',\n",
      " u'stellar_pop.value',\n",
      " u'stellar_pop_parameter.name',\n",
      " u'stellar_pop_parameter.stellarpops',\n",
      " u'stellar_pop_parameter.unit',\n",
      " u'stellar_pop_type.channel',\n",
      " u'stellar_pop_type.name',\n",
      " u'stellar_pop_type.stellarpops',\n",
      " u'structure.binid',\n",
      " u'structure.binmode',\n",
      " u'structure.bintype',\n",
      " u'structure.executionplan',\n",
      " u'structure.files',\n",
      " u'structure.template_kin',\n",
      " u'structure.template_pop',\n",
      " u'template.id',\n",
      " u'template.name',\n",
      " u'template.structures_kin',\n",
      " u'template.structures_pop',\n",
      " u'cart.cubes',\n",
      " u'cart.id',\n",
      " u'cube.carts',\n",
      " u'cube.collist',\n",
      " u'cube.cols',\n",
      " u'cube.dapfiles',\n",
      " u'cube.dec',\n",
      " u'cube.designid',\n",
      " u'cube.hdr',\n",
      " u'cube.headervals',\n",
      " u'cube.ifu',\n",
      " u'cube.mangaid',\n",
      " u'cube.pipelineInfo',\n",
      " u'cube.plate',\n",
      " u'cube.plateifu',\n",
      " u'cube.ra',\n",
      " u'cube.rssfibers',\n",
      " u'cube.sample',\n",
      " u'cube.shape',\n",
      " u'cube.spaxels',\n",
      " u'cube.specres',\n",
      " u'cube.target',\n",
      " u'cube.testrssfibers',\n",
      " u'cube.wavelength',\n",
      " u'cube.wcs',\n",
      " u'cube.xfocal',\n",
      " u'cube.yfocal',\n",
      " u'cube_shape.cubes',\n",
      " u'cube_shape.indices',\n",
      " u'cube_shape.size',\n",
      " u'cube_shape.total',\n",
      " u'fiber_type.fibers',\n",
      " u'fiber_type.label',\n",
      " u'fibers.dist_mm',\n",
      " u'fibers.fiberid',\n",
      " u'fibers.fibertype',\n",
      " u'fibers.fnum',\n",
      " u'fibers.ifu',\n",
      " u'fibers.ring',\n",
      " u'fibers.rssfibers',\n",
      " u'fibers.specfibid',\n",
      " u'fibers.targettype',\n",
      " u'fibers.xpmm',\n",
      " u'fibers.ypmm',\n",
      " u'fits_header_keyword.label',\n",
      " u'fits_header_keyword.value',\n",
      " u'fits_header_value.comment',\n",
      " u'fits_header_value.cube',\n",
      " u'fits_header_value.index',\n",
      " u'fits_header_value.keyword',\n",
      " u'fits_header_value.value',\n",
      " u'ifudesign.blocks',\n",
      " u'ifudesign.cubes',\n",
      " u'ifudesign.fibers',\n",
      " u'ifudesign.maxring',\n",
      " u'ifudesign.name',\n",
      " u'ifudesign.nblocks',\n",
      " u'ifudesign.nfiber',\n",
      " u'ifudesign.nsky',\n",
      " u'ifudesign.specid',\n",
      " u'pipeline_completion_status.label',\n",
      " u'pipeline_completion_status.pipeinfo',\n",
      " u'pipeline_info.completionStatus',\n",
      " u'pipeline_info.cubes',\n",
      " u'pipeline_info.dapfiles',\n",
      " u'pipeline_info.name',\n",
      " u'pipeline_info.stage',\n",
      " u'pipeline_info.version',\n",
      " u'pipeline_name.label',\n",
      " u'pipeline_name.pipeinfo',\n",
      " u'pipeline_stage.label',\n",
      " u'pipeline_stage.pipeinfo',\n",
      " u'pipeline_version.pipeinfo',\n",
      " u'pipeline_version.version',\n",
      " u'rssfiber.collist',\n",
      " u'rssfiber.cols',\n",
      " u'rssfiber.cube',\n",
      " u'rssfiber.exposure_no',\n",
      " u'rssfiber.fiber',\n",
      " u'rssfiber.flux',\n",
      " u'rssfiber.ivar',\n",
      " u'rssfiber.mask',\n",
      " u'rssfiber.mjd',\n",
      " u'rssfiber.xpos',\n",
      " u'rssfiber.ypos',\n",
      " u'sample.collist',\n",
      " u'sample.cols',\n",
      " u'sample.cube',\n",
      " u'sample.field',\n",
      " u'sample.iauname',\n",
      " u'sample.ifu_dec',\n",
      " u'sample.ifu_ra',\n",
      " u'sample.ifudesignsize',\n",
      " u'sample.ifudesignwrongsize',\n",
      " u'sample.ifutargetsize',\n",
      " u'sample.manga_tileid',\n",
      " u'sample.nsa_absmag_el_f',\n",
      " u'sample.nsa_absmag_el_g',\n",
      " u'sample.nsa_absmag_el_i',\n",
      " u'sample.nsa_absmag_el_n',\n",
      " u'sample.nsa_absmag_el_r',\n",
      " u'sample.nsa_absmag_el_u',\n",
      " u'sample.nsa_absmag_el_z',\n",
      " u'sample.nsa_absmag_f',\n",
      " u'sample.nsa_absmag_g',\n",
      " u'sample.nsa_absmag_i',\n",
      " u'sample.nsa_absmag_n',\n",
      " u'sample.nsa_absmag_r',\n",
      " u'sample.nsa_absmag_u',\n",
      " u'sample.nsa_absmag_z',\n",
      " u'sample.nsa_amivar_el_f',\n",
      " u'sample.nsa_amivar_el_g',\n",
      " u'sample.nsa_amivar_el_i',\n",
      " u'sample.nsa_amivar_el_n',\n",
      " u'sample.nsa_amivar_el_r',\n",
      " u'sample.nsa_amivar_el_u',\n",
      " u'sample.nsa_amivar_el_z',\n",
      " u'sample.nsa_ba',\n",
      " u'sample.nsa_extinction_f',\n",
      " u'sample.nsa_extinction_g',\n",
      " u'sample.nsa_extinction_i',\n",
      " u'sample.nsa_extinction_n',\n",
      " u'sample.nsa_extinction_r',\n",
      " u'sample.nsa_extinction_u',\n",
      " u'sample.nsa_extinction_z',\n",
      " u'sample.nsa_id',\n",
      " u'sample.nsa_id100',\n",
      " u'sample.nsa_inclination',\n",
      " u'sample.nsa_logmstar',\n",
      " u'sample.nsa_logmstar_el',\n",
      " u'sample.nsa_mstar',\n",
      " u'sample.nsa_mstar_el',\n",
      " u'sample.nsa_petro_th50',\n",
      " u'sample.nsa_petro_th50_el',\n",
      " u'sample.nsa_petroflux_el_f',\n",
      " u'sample.nsa_petroflux_el_g',\n",
      " u'sample.nsa_petroflux_el_i',\n",
      " u'sample.nsa_petroflux_el_ivar_f',\n",
      " u'sample.nsa_petroflux_el_ivar_g',\n",
      " u'sample.nsa_petroflux_el_ivar_i',\n",
      " u'sample.nsa_petroflux_el_ivar_n',\n",
      " u'sample.nsa_petroflux_el_ivar_r',\n",
      " u'sample.nsa_petroflux_el_ivar_u',\n",
      " u'sample.nsa_petroflux_el_ivar_z',\n",
      " u'sample.nsa_petroflux_el_n',\n",
      " u'sample.nsa_petroflux_el_r',\n",
      " u'sample.nsa_petroflux_el_u',\n",
      " u'sample.nsa_petroflux_el_z',\n",
      " u'sample.nsa_petroflux_f',\n",
      " u'sample.nsa_petroflux_g',\n",
      " u'sample.nsa_petroflux_i',\n",
      " u'sample.nsa_petroflux_ivar_f',\n",
      " u'sample.nsa_petroflux_ivar_g',\n",
      " u'sample.nsa_petroflux_ivar_i',\n",
      " u'sample.nsa_petroflux_ivar_n',\n",
      " u'sample.nsa_petroflux_ivar_r',\n",
      " u'sample.nsa_petroflux_ivar_u',\n",
      " u'sample.nsa_petroflux_ivar_z',\n",
      " u'sample.nsa_petroflux_n',\n",
      " u'sample.nsa_petroflux_r',\n",
      " u'sample.nsa_petroflux_u',\n",
      " u'sample.nsa_petroflux_z',\n",
      " u'sample.nsa_phi',\n",
      " u'sample.nsa_redshift',\n",
      " u'sample.nsa_sersic_ba',\n",
      " u'sample.nsa_sersic_n',\n",
      " u'sample.nsa_sersic_phi',\n",
      " u'sample.nsa_sersic_th50',\n",
      " u'sample.nsa_sersicflux_f',\n",
      " u'sample.nsa_sersicflux_g',\n",
      " u'sample.nsa_sersicflux_i',\n",
      " u'sample.nsa_sersicflux_ivar_f',\n",
      " u'sample.nsa_sersicflux_ivar_g',\n",
      " u'sample.nsa_sersicflux_ivar_i',\n",
      " u'sample.nsa_sersicflux_ivar_n',\n",
      " u'sample.nsa_sersicflux_ivar_r',\n",
      " u'sample.nsa_sersicflux_ivar_u',\n",
      " u'sample.nsa_sersicflux_ivar_z',\n",
      " u'sample.nsa_sersicflux_n',\n",
      " u'sample.nsa_sersicflux_r',\n",
      " u'sample.nsa_sersicflux_u',\n",
      " u'sample.nsa_sersicflux_z',\n",
      " u'sample.nsa_vdisp',\n",
      " u'sample.nsa_version',\n",
      " u'sample.nsa_zdist',\n",
      " u'sample.run',\n",
      " u'sample.target_dec',\n",
      " u'sample.target_ra',\n",
      " u'slitblock.blockid',\n",
      " u'slitblock.ifus',\n",
      " u'slitblock.nfiber',\n",
      " u'slitblock.specblockid',\n",
      " u'spaxel.collist',\n",
      " u'spaxel.cols',\n",
      " u'spaxel.cube',\n",
      " u'spaxel.flux',\n",
      " u'spaxel.ivar',\n",
      " u'spaxel.mask',\n",
      " u'spaxel.x',\n",
      " u'spaxel.y',\n",
      " u'target_type.fibers',\n",
      " u'target_type.label',\n",
      " u'test_rssfiber.cube',\n",
      " u'test_rssfiber.flux',\n",
      " u'test_spaxel.flux',\n",
      " u'test_spaxel.flux_json',\n",
      " u'test_spaxel.ivar',\n",
      " u'test_spaxel.mask',\n",
      " u'wavelength.bintype',\n",
      " u'wavelength.collist',\n",
      " u'wavelength.cols',\n",
      " u'wavelength.cube',\n",
      " u'wavelength.wavelength',\n",
      " u'wcs.cd1_1',\n",
      " u'wcs.cd2_2',\n",
      " u'wcs.cd3_3',\n",
      " u'wcs.collist',\n",
      " u'wcs.cols',\n",
      " u'wcs.crpix1',\n",
      " u'wcs.crpix2',\n",
      " u'wcs.crpix3',\n",
      " u'wcs.crval1',\n",
      " u'wcs.crval2',\n",
      " u'wcs.crval3',\n",
      " u'wcs.ctype1',\n",
      " u'wcs.ctype2',\n",
      " u'wcs.ctype3',\n",
      " u'wcs.cube',\n",
      " u'wcs.cunit1',\n",
      " u'wcs.cunit2',\n",
      " u'wcs.cunit3',\n",
      " u'wcs.errdata',\n",
      " u'wcs.extname',\n",
      " u'wcs.hduclas1',\n",
      " u'wcs.hduclas2',\n",
      " u'wcs.hduclass',\n",
      " u'wcs.naxis1',\n",
      " u'wcs.naxis2',\n",
      " u'wcs.naxis3',\n",
      " u'wcs.qualdata',\n",
      " u'anime.anime',\n",
      " u'anime.characters',\n",
      " u'catalogue.catalogue_name',\n",
      " u'catalogue.currentCatalogue',\n",
      " u'catalogue.match_description',\n",
      " u'catalogue.matched',\n",
      " u'catalogue.version',\n",
      " u'current_catalogue.catalogue',\n",
      " u'manga_target.NSA_objects',\n",
      " u'manga_target.character',\n",
      " u'manga_target.cubes',\n",
      " u'manga_target.mangaid',\n",
      " u'nsa.aid',\n",
      " u'nsa.asymmetry',\n",
      " u'nsa.ba50',\n",
      " u'nsa.ba90',\n",
      " u'nsa.bastokes',\n",
      " u'nsa.camcol',\n",
      " u'nsa.clumpy',\n",
      " u'nsa.dec',\n",
      " u'nsa.deccat',\n",
      " u'nsa.dflags',\n",
      " u'nsa.dversion',\n",
      " u'nsa.extinction',\n",
      " u'nsa.fiberflux',\n",
      " u'nsa.fiberflux_ivar',\n",
      " u'nsa.fiberid',\n",
      " u'nsa.field',\n",
      " u'nsa.hybridProperty',\n",
      " u'nsa.ialfalfa',\n",
      " u'nsa.iauname',\n",
      " u'nsa.in_dr7_lss',\n",
      " u'nsa.ined',\n",
      " u'nsa.isdss',\n",
      " u'nsa.isixdf',\n",
      " u'nsa.itwodf',\n",
      " u'nsa.izcat',\n",
      " u'nsa.mag',\n",
      " u'nsa.mangaTargets',\n",
      " u'nsa.mjd',\n",
      " u'nsa.nprof',\n",
      " u'nsa.nsaid',\n",
      " u'nsa.petro_absmag_el',\n",
      " u'nsa.petro_amivar_el',\n",
      " u'nsa.petro_b1000_el',\n",
      " u'nsa.petro_b300_el',\n",
      " u'nsa.petro_ba_el',\n",
      " u'nsa.petro_kcoeff_el',\n",
      " u'nsa.petro_kcorrect_el',\n",
      " u'nsa.petro_mass_el',\n",
      " u'nsa.petro_mets_el',\n",
      " u'nsa.petro_mtol_el',\n",
      " u'nsa.petro_nmgy_el',\n",
      " u'nsa.petro_nmgy_ivar_el',\n",
      " u'nsa.petro_ok_el',\n",
      " u'nsa.petro_phi_el',\n",
      " u'nsa.petro_rnmgy_el',\n",
      " u'nsa.petroflux',\n",
      " u'nsa.petroflux_el',\n",
      " u'nsa.petroflux_ivar',\n",
      " u'nsa.petroflux_ivar_el',\n",
      " u'nsa.petroth50',\n",
      " u'nsa.petroth50_el',\n",
      " u'nsa.petroth90',\n",
      " u'nsa.petroth90_el',\n",
      " u'nsa.petrotheta',\n",
      " u'nsa.petrotheta_el',\n",
      " u'nsa.phi50',\n",
      " u'nsa.phi90',\n",
      " u'nsa.phistokes',\n",
      " u'nsa.pid',\n",
      " u'nsa.plate',\n",
      " u'nsa.platequality',\n",
      " u'nsa.plug_dec',\n",
      " u'nsa.plug_ra',\n",
      " u'nsa.profmean',\n",
      " u'nsa.profmean_ivar',\n",
      " u'nsa.proftheta',\n",
      " u'nsa.programname',\n",
      " u'nsa.qstokes',\n",
      " u'nsa.ra',\n",
      " u'nsa.racat',\n",
      " u'nsa.rerun',\n",
      " u'nsa.run',\n",
      " u'nsa.sersic_absmag',\n",
      " u'nsa.sersic_amivar',\n",
      " u'nsa.sersic_b1000',\n",
      " u'nsa.sersic_b300',\n",
      " u'nsa.sersic_ba',\n",
      " u'nsa.sersic_kcoeff',\n",
      " u'nsa.sersic_kcorrect',\n",
      " u'nsa.sersic_mass',\n",
      " u'nsa.sersic_mets',\n",
      " u'nsa.sersic_mtol',\n",
      " u'nsa.sersic_n',\n",
      " u'nsa.sersic_nmgy',\n",
      " u'nsa.sersic_nmgy_ivar',\n",
      " u'nsa.sersic_ok',\n",
      " u'nsa.sersic_phi',\n",
      " u'nsa.sersic_rnmgy',\n",
      " u'nsa.sersic_th50',\n",
      " u'nsa.sersicflux',\n",
      " u'nsa.sersicflux_ivar',\n",
      " u'nsa.size',\n",
      " u'nsa.subdir',\n",
      " u'nsa.survey',\n",
      " u'nsa.tile',\n",
      " u'nsa.ustokes',\n",
      " u'nsa.xcen',\n",
      " u'nsa.xpos',\n",
      " u'nsa.ycen',\n",
      " u'nsa.ypos',\n",
      " u'nsa.z',\n",
      " u'nsa.zdist',\n",
      " u'nsa.zsdssline',\n",
      " u'nsa.zsrc']\n"
     ]
    }
   ],
   "source": [
    "# try this if the previous cell didn't return a list of parameters\n",
    "from marvin.api.api import Interaction\n",
    "from pprint import pprint\n",
    "url = config.urlmap['api']['getparams']['url']\n",
    "ii = Interaction(route=url)\n",
    "mykeys = ii.getData()\n",
    "pprint(mykeys)"
   ]
  },
  {
   "cell_type": "markdown",
   "metadata": {},
   "source": [
    "Go ahead and try to create some new searches on your own from the parameter list. Please feel free to also try out the some of the same search on the **[Marvin-web Search page](https://sas.sdss.org/marvin2/search/)**."
   ]
  },
  {
   "cell_type": "markdown",
   "metadata": {},
   "source": [
    "## Returning Bonus Parameters\n",
    "\n",
    "Often you want to run a query and see the value of parameters that you didn't explicitly search on. For instance, you want to find galaxies above a redshift of 0.1 and would like to know their RA and DECs.\n",
    "\n",
    "In Marvin-tools, this is as easy as specifying the **`returnparams`** option with either a string (for a single bonus parameter) or a list of strings (for multiple bonus parameters)."
   ]
  },
  {
   "cell_type": "code",
   "execution_count": 69,
   "metadata": {
    "collapsed": false,
    "scrolled": true
   },
   "outputs": [
    {
     "name": "stdout",
     "output_type": "stream",
     "text": [
      "Your parsed filter is: \n",
      "nsa.z>0.1\n",
      "Results contain of a total of 103, only returning the first 103 results\n"
     ]
    }
   ],
   "source": [
    "myquery5 = 'nsa.z > 0.1'\n",
    "bonusparams5 = ['cube.ra', 'cube.dec'] # table.parameter\n",
    "# bonusparams5 = 'cube.ra'  # This works too\n",
    "\n",
    "q5 = Query(searchfilter=myquery5, returnparams=bonusparams5)\n",
    "r5 = q5.run()"
   ]
  },
  {
   "cell_type": "code",
   "execution_count": 70,
   "metadata": {
    "collapsed": false
   },
   "outputs": [
    {
     "data": {
      "text/plain": [
       "[NamedTuple(ra=253.40555905, dec=63.0312699156, mangaid=u'1-22301', plate=7992, name=u'6101', z=0.105152934789658),\n",
       " NamedTuple(ra=111.733682055, dec=41.0266910782, mangaid=u'1-548024', plate=8132, name=u'6101', z=0.129403337836266),\n",
       " NamedTuple(ra=180.172706776, dec=43.3546289934, mangaid=u'1-281234', plate=8259, name=u'12705', z=0.112710684537888),\n",
       " NamedTuple(ra=120.440525845, dec=44.1100506919, mangaid=u'1-44549', plate=8141, name=u'6104', z=0.131695568561554),\n",
       " NamedTuple(ra=133.035323408, dec=51.3127390765, mangaid=u'1-73638', plate=8244, name=u'12704', z=0.115137368440628),\n",
       " NamedTuple(ra=121.014200537, dec=40.8026129505, mangaid=u'1-72322', plate=8143, name=u'6101', z=0.126168444752693),\n",
       " NamedTuple(ra=169.669552898, dec=45.5527255595, mangaid=u'1-279123', plate=8466, name=u'6104', z=0.112603604793549),\n",
       " NamedTuple(ra=169.539016286, dec=45.6186388631, mangaid=u'1-279120', plate=8466, name=u'3703', z=0.111132927238941),\n",
       " NamedTuple(ra=168.094030871, dec=44.8160370649, mangaid=u'1-277992', plate=8466, name=u'6101', z=0.122333146631718),\n",
       " NamedTuple(ra=213.809361648, dec=47.7499574049, mangaid=u'1-320677', plate=8326, name=u'9101', z=0.130441725254059),\n",
       " NamedTuple(ra=186.180996627, dec=44.4107711556, mangaid=u'1-258599', plate=8464, name=u'6101', z=0.125581577420235),\n",
       " NamedTuple(ra=260.464506436, dec=27.264680666, mangaid=u'1-178442', plate=7962, name=u'6101', z=0.104525156319141),\n",
       " NamedTuple(ra=169.513447059, dec=45.1130288476, mangaid=u'1-256832', plate=8466, name=u'3704', z=0.107237540185452),\n",
       " NamedTuple(ra=116.967569128, dec=43.3835000413, mangaid=u'1-43721', plate=8137, name=u'6104', z=0.111393660306931),\n",
       " NamedTuple(ra=132.627858985, dec=50.2789266122, mangaid=u'1-73584', plate=8244, name=u'3704', z=0.122149974107742),\n",
       " NamedTuple(ra=114.775746822, dec=44.4027654465, mangaid=u'1-338922', plate=8133, name=u'12704', z=0.134470850229263),\n",
       " NamedTuple(ra=245.194377712, dec=43.1532077493, mangaid=u'1-134884', plate=8555, name=u'12704', z=0.134069666266441),\n",
       " NamedTuple(ra=207.390012752, dec=38.7144657524, mangaid=u'1-405213', plate=8447, name=u'3702', z=0.10859215259552),\n",
       " NamedTuple(ra=193.270198644, dec=44.9603482345, mangaid=u'1-259368', plate=8317, name=u'6103', z=0.105904541909695),\n",
       " NamedTuple(ra=211.904865423, dec=44.4822692358, mangaid=u'1-286804', plate=8329, name=u'6102', z=0.142887070775032),\n",
       " NamedTuple(ra=113.266875521, dec=42.4724616081, mangaid=u'1-338629', plate=8132, name=u'12703', z=0.116055555641651),\n",
       " NamedTuple(ra=162.989174052, dec=44.7601317834, mangaid=u'1-276590', plate=8254, name=u'6103', z=0.140498355031013),\n",
       " NamedTuple(ra=112.603684034, dec=39.8968449502, mangaid=u'1-338279', plate=8131, name=u'1902', z=0.117849268019199),\n",
       " NamedTuple(ra=111.037340537, dec=42.9193141439, mangaid=u'1-548001', plate=8132, name=u'6103', z=0.122464999556541),\n",
       " NamedTuple(ra=135.065441378, dec=40.9179727701, mangaid=u'1-216984', plate=8440, name=u'12702', z=0.147425606846809),\n",
       " NamedTuple(ra=248.140561423, dec=39.1310206842, mangaid=u'1-210700', plate=8588, name=u'3701', z=0.130271524190903),\n",
       " NamedTuple(ra=248.140561423, dec=39.1310206842, mangaid=u'1-210700', plate=8603, name=u'12701', z=0.130271524190903),\n",
       " NamedTuple(ra=229.308914218, dec=44.0180313812, mangaid=u'1-322113', plate=8552, name=u'9102', z=0.122260250151157),\n",
       " NamedTuple(ra=211.25307421, dec=44.7524445135, mangaid=u'1-286795', plate=8329, name=u'9101', z=0.108075045049191),\n",
       " NamedTuple(ra=111.975292022, dec=40.0919903613, mangaid=u'1-338044', plate=8131, name=u'3704', z=0.120859079062939),\n",
       " NamedTuple(ra=156.988511384, dec=43.3182682084, mangaid=u'1-254642', plate=8253, name=u'6103', z=0.105767711997032),\n",
       " NamedTuple(ra=113.747217977, dec=43.4725190638, mangaid=u'1-377841', plate=8133, name=u'12705', z=0.130943015217781),\n",
       " NamedTuple(ra=144.475988638, dec=50.9890991486, mangaid=u'1-156158', plate=8439, name=u'3703', z=0.138619318604469),\n",
       " NamedTuple(ra=183.789114229, dec=36.3366201557, mangaid=u'1-419607', plate=8554, name=u'9102', z=0.148181155323982),\n",
       " NamedTuple(ra=115.632320465, dec=43.935522553, mangaid=u'1-338822', plate=8137, name=u'9101', z=0.118864856660366),\n",
       " NamedTuple(ra=181.827576407, dec=46.7275255533, mangaid=u'1-575845', plate=8261, name=u'3702', z=0.10165724158287),\n",
       " NamedTuple(ra=115.368719754, dec=44.4087940076, mangaid=u'1-574402', plate=8137, name=u'3702', z=0.131997466087341),\n",
       " NamedTuple(ra=114.309703748, dec=46.9375039058, mangaid=u'1-378168', plate=8134, name=u'3702', z=0.147765070199966),\n",
       " NamedTuple(ra=112.644838061, dec=42.3290588306, mangaid=u'1-377471', plate=8132, name=u'3701', z=0.11967808753252),\n",
       " NamedTuple(ra=209.234177154, dec=43.3134779654, mangaid=u'1-251278', plate=8332, name=u'6102', z=0.149510651826859),\n",
       " NamedTuple(ra=112.670687362, dec=40.1917896363, mangaid=u'1-338283', plate=8131, name=u'6103', z=0.120054207742214),\n",
       " NamedTuple(ra=114.096383278, dec=39.4382798053, mangaid=u'1-43214', plate=8135, name=u'1902', z=0.117997065186501),\n",
       " NamedTuple(ra=253.887902479, dec=38.0648443937, mangaid=u'1-564477', plate=8606, name=u'12703', z=0.116163171827793),\n",
       " NamedTuple(ra=186.67567367, dec=43.7833156939, mangaid=u'1-282600', plate=8464, name=u'9101', z=0.111539907753468),\n",
       " NamedTuple(ra=195.522963799, dec=47.4969532797, mangaid=u'1-284031', plate=8465, name=u'6101', z=0.143484994769096),\n",
       " NamedTuple(ra=208.392613685, dec=38.9965989403, mangaid=u'1-260743', plate=8447, name=u'6104', z=0.146998286247253),\n",
       " NamedTuple(ra=132.977743439, dec=52.9008813541, mangaid=u'1-48410', plate=8244, name=u'9102', z=0.114568457007408),\n",
       " NamedTuple(ra=247.097142285, dec=43.9576126147, mangaid=u'1-93872', plate=8555, name=u'6103', z=0.139743015170097),\n",
       " NamedTuple(ra=112.559910339, dec=39.533459057, mangaid=u'1-338117', plate=8131, name=u'12705', z=0.141543999314308),\n",
       " NamedTuple(ra=214.547722959, dec=44.4742758113, mangaid=u'1-266106', plate=8329, name=u'12705', z=0.141613483428955),\n",
       " NamedTuple(ra=246.561043903, dec=46.3708377365, mangaid=u'1-569042', plate=8484, name=u'12701', z=0.113261565566063),\n",
       " NamedTuple(ra=182.983754904, dec=45.7899295636, mangaid=u'1-258425', plate=8261, name=u'12702', z=0.112247258424759),\n",
       " NamedTuple(ra=214.060210955, dec=43.9229334765, mangaid=u'1-266074', plate=8329, name=u'3703', z=0.137720331549644),\n",
       " NamedTuple(ra=134.674576789, dec=41.2364198815, mangaid=u'1-137548', plate=8440, name=u'6101', z=0.147353649139404),\n",
       " NamedTuple(ra=163.249900532, dec=43.0486136514, mangaid=u'1-255890', plate=8254, name=u'6101', z=0.147918879985809),\n",
       " NamedTuple(ra=261.115608768, dec=56.2960102323, mangaid=u'1-25937', plate=7991, name=u'12705', z=0.113152720034122),\n",
       " NamedTuple(ra=143.940659163, dec=49.0232113878, mangaid=u'1-156039', plate=8439, name=u'3704', z=0.114698931574821),\n",
       " NamedTuple(ra=246.942944115, dec=44.177521384, mangaid=u'1-93876', plate=8555, name=u'3704', z=0.139403626322746),\n",
       " NamedTuple(ra=246.942944115, dec=44.177521384, mangaid=u'1-93876', plate=8484, name=u'9101', z=0.139403626322746),\n",
       " NamedTuple(ra=137.441277003, dec=41.9558696113, mangaid=u'1-217041', plate=8247, name=u'9102', z=0.140034511685371),\n",
       " NamedTuple(ra=113.284972917, dec=44.5509699475, mangaid=u'1-567948', plate=8133, name=u'6103', z=0.131112515926361),\n",
       " NamedTuple(ra=112.416704157, dec=41.072316326, mangaid=u'1-338359', plate=8131, name=u'6104', z=0.101024776697159),\n",
       " NamedTuple(ra=255.979555141, dec=37.3248749067, mangaid=u'1-546894', plate=8606, name=u'12704', z=0.12271898239851),\n",
       " NamedTuple(ra=207.569449754, dec=39.6364270051, mangaid=u'1-260377', plate=8447, name=u'6102', z=0.122407950460911),\n",
       " NamedTuple(ra=246.42636598, dec=43.9317741891, mangaid=u'1-134978', plate=8555, name=u'3702', z=0.133138671517372),\n",
       " NamedTuple(ra=317.568825378, dec=10.4088108392, mangaid=u'1-113476', plate=8618, name=u'12705', z=0.118158236145973),\n",
       " NamedTuple(ra=249.079028876, dec=40.4226964568, mangaid=u'1-569114', plate=8601, name=u'12704', z=0.102694198489189),\n",
       " NamedTuple(ra=133.06809411, dec=50.627237501, mangaid=u'1-73667', plate=8244, name=u'12701', z=0.112362340092659),\n",
       " NamedTuple(ra=113.326608857, dec=46.3481928774, mangaid=u'1-378237', plate=8134, name=u'3701', z=0.127436295151711),\n",
       " NamedTuple(ra=205.386024339, dec=38.7879976571, mangaid=u'1-402409', plate=8330, name=u'12705', z=0.117655210196972),\n",
       " NamedTuple(ra=236.092836031, dec=47.8535814068, mangaid=u'1-209049', plate=8486, name=u'3701', z=0.128997713327408),\n",
       " NamedTuple(ra=211.991755192, dec=47.9064008103, mangaid=u'1-320324', plate=8325, name=u'12704', z=0.144286558032036),\n",
       " NamedTuple(ra=245.362216361, dec=42.76129006, mangaid=u'1-134760', plate=8555, name=u'12701', z=0.138174697756767),\n",
       " NamedTuple(ra=166.129407835, dec=42.6245544187, mangaid=u'1-558912', plate=8274, name=u'12704', z=0.126109912991524),\n",
       " NamedTuple(ra=166.129407835, dec=42.6245544187, mangaid=u'1-558912', plate=8451, name=u'12701', z=0.126109912991524),\n",
       " NamedTuple(ra=166.129407835, dec=42.6245544187, mangaid=u'1-558912', plate=8256, name=u'12704', z=0.126109912991524),\n",
       " NamedTuple(ra=247.694974246, dec=47.7947656349, mangaid=u'1-93471', plate=8483, name=u'6104', z=0.127958878874779),\n",
       " NamedTuple(ra=197.239319048, dec=45.9054469821, mangaid=u'1-284293', plate=8318, name=u'6102', z=0.129079714417458),\n",
       " NamedTuple(ra=209.163574437, dec=43.585640819, mangaid=u'1-251269', plate=8332, name=u'12704', z=0.103091135621071),\n",
       " NamedTuple(ra=254.39542133, dec=62.8724834807, mangaid=u'1-22942', plate=7992, name=u'12705', z=0.104957938194275),\n",
       " NamedTuple(ra=254.542083999, dec=62.4156479613, mangaid=u'1-22948', plate=7992, name=u'9102', z=0.119399353861809),\n",
       " NamedTuple(ra=130.996444722, dec=51.0902636663, mangaid=u'1-47705', plate=8244, name=u'6103', z=0.126343622803688),\n",
       " NamedTuple(ra=110.865858864, dec=43.0516356107, mangaid=u'1-377617', plate=8132, name=u'1901', z=0.107249520719051),\n",
       " NamedTuple(ra=318.775640877, dec=10.0984558649, mangaid=u'1-113675', plate=8618, name=u'3702', z=0.129880517721176),\n",
       " NamedTuple(ra=229.493083453, dec=44.0795834625, mangaid=u'1-322096', plate=8552, name=u'6103', z=0.116314612329006),\n",
       " NamedTuple(ra=260.346989853, dec=55.876526099, mangaid=u'1-25911', plate=7991, name=u'9102', z=0.139783903956413),\n",
       " NamedTuple(ra=183.997377433, dec=35.7173746013, mangaid=u'1-419288', plate=8554, name=u'6103', z=0.133345186710358),\n",
       " NamedTuple(ra=167.089811867, dec=22.6614709807, mangaid=u'1-487379', plate=8448, name=u'3703', z=0.138746127486229),\n",
       " NamedTuple(ra=259.063747798, dec=28.0140058716, mangaid=u'1-177796', plate=7962, name=u'3702', z=0.107198670506477),\n",
       " NamedTuple(ra=236.299300223, dec=47.0497223315, mangaid=u'1-209607', plate=8486, name=u'3704', z=0.115633957087994),\n",
       " NamedTuple(ra=185.037670436, dec=47.1335214433, mangaid=u'1-282114', plate=8263, name=u'3702', z=0.112681359052658),\n",
       " NamedTuple(ra=240.186697059, dec=53.7755312455, mangaid=u'1-91550', plate=8481, name=u'3704', z=0.110131770372391),\n",
       " NamedTuple(ra=246.881870865, dec=43.4062635412, mangaid=u'1-134994', plate=8555, name=u'6102', z=0.129685834050179),\n",
       " NamedTuple(ra=110.517196768, dec=42.4213792365, mangaid=u'1-547999', plate=8132, name=u'12701', z=0.135843634605408),\n",
       " NamedTuple(ra=255.350049437, dec=37.3828022848, mangaid=u'1-136292', plate=8606, name=u'6102', z=0.121731132268906),\n",
       " NamedTuple(ra=49.9495621925, dec=-0.22114540619, mangaid=u'1-109308', plate=8082, name=u'12704', z=0.131680503487587),\n",
       " NamedTuple(ra=156.699612286, dec=48.1290396768, mangaid=u'1-148086', plate=8452, name=u'3703', z=0.133195132017136),\n",
       " NamedTuple(ra=166.106858433, dec=45.7817118443, mangaid=u'1-278075', plate=8257, name=u'6104', z=0.142857417464256),\n",
       " NamedTuple(ra=114.394019718, dec=47.4639579264, mangaid=u'1-548074', plate=8134, name=u'9101', z=0.127591162919998),\n",
       " NamedTuple(ra=240.367914805, dec=53.9364085499, mangaid=u'1-576269', plate=8481, name=u'6104', z=0.10660707950592),\n",
       " NamedTuple(ra=112.169426691, dec=41.4730240551, mangaid=u'1-377439', plate=8131, name=u'3703', z=0.119083739817142),\n",
       " NamedTuple(ra=258.190223742, dec=36.2788557572, mangaid=u'1-547210', plate=7957, name=u'12703', z=0.117079995572567),\n",
       " NamedTuple(ra=182.784465836, dec=35.3330069871, mangaid=u'1-414400', plate=8554, name=u'6102', z=0.136377170681953)]"
      ]
     },
     "execution_count": 70,
     "metadata": {},
     "output_type": "execute_result"
    }
   ],
   "source": [
    "r5.results"
   ]
  },
  {
   "cell_type": "markdown",
   "metadata": {},
   "source": [
    "Next time, we'll take a closer look at the **`Results`** class and its built in MaNGA convenience functions."
   ]
  },
  {
   "cell_type": "markdown",
   "metadata": {},
   "source": [
    "## Useful Resources\n",
    "\n",
    "Check out these pages on the Marvin Docs site for more **`Query`** tips and tricks.\n",
    "\n",
    "- **[Query](https://api.sdss.org/doc/manga/marvin/refactor/query.html)**\n",
    "- **[Example Queries](https://api.sdss.org/doc/manga/marvin/refactor/tutorials/query-examples.html)**\n",
    "- **[Results](https://api.sdss.org/doc/manga/marvin/refactor/results.htmlpages)** \n",
    "- **[Boolean Search Tutorial](https://api.sdss.org/doc/manga/marvin/refactor/tutorials/boolean-search-tutorial.html)**"
   ]
  },
  {
   "cell_type": "code",
   "execution_count": 71,
   "metadata": {
    "collapsed": false
   },
   "outputs": [
    {
     "name": "stdout",
     "output_type": "stream",
     "text": [
      "Results(results=[NamedTuple(mangaid=u'1-22438', plate=7992, name=u'1901', z=0.016383046284318), NamedTuple(mangaid=u'1-113520', plate=7815, name=u'1901', z=0.0167652331292629), NamedTuple(mangaid=u'1-113698', plate=8618, name=u'1901', z=0.0167444702237844), NamedTuple(mangaid=u'1-134004', plate=8486, name=u'1901', z=0.0185601413249969), NamedTuple(mangaid=u'1-155903', plate=8439, name=u'1901', z=0.0163660924881697)], \n",
      "query=u\"SELECT mangadatadb.cube.mangaid, mangadatadb.cube.plate, mangadatadb.ifudesign.name, mangasampledb.nsa.z \\nFROM mangadatadb.cube JOIN mangadatadb.ifudesign ON mangadatadb.ifudesign.pk = mangadatadb.cube.ifudesign_pk JOIN mangasampledb.manga_target ON mangasampledb.manga_target.pk = mangadatadb.cube.manga_target_pk JOIN mangasampledb.manga_target_to_nsa ON mangasampledb.manga_target.pk = mangasampledb.manga_target_to_nsa.manga_target_pk JOIN mangasampledb.nsa ON mangasampledb.nsa.pk = mangasampledb.manga_target_to_nsa.nsa_pk JOIN mangadatadb.pipeline_info AS drpalias ON drpalias.pk = mangadatadb.cube.pipeline_info_pk \\nWHERE mangasampledb.nsa.z < 0.02 AND lower(mangadatadb.ifudesign.name) = lower('1901') AND drpalias.pk = 21\", \n",
      "count=8, \n",
      "mode=remote\n"
     ]
    }
   ],
   "source": [
    "print(r)"
   ]
  },
  {
   "cell_type": "code",
   "execution_count": 73,
   "metadata": {
    "collapsed": false
   },
   "outputs": [
    {
     "data": {
      "text/plain": [
       "(8, 8)"
      ]
     },
     "execution_count": 73,
     "metadata": {},
     "output_type": "execute_result"
    }
   ],
   "source": [
    "r.totalcount, r.count"
   ]
  },
  {
   "cell_type": "code",
   "execution_count": 75,
   "metadata": {
    "collapsed": false
   },
   "outputs": [
    {
     "data": {
      "text/plain": [
       "u\"SELECT mangadatadb.cube.mangaid, mangadatadb.cube.plate, mangadatadb.ifudesign.name, mangasampledb.nsa.z \\nFROM mangadatadb.cube JOIN mangadatadb.ifudesign ON mangadatadb.ifudesign.pk = mangadatadb.cube.ifudesign_pk JOIN mangasampledb.manga_target ON mangasampledb.manga_target.pk = mangadatadb.cube.manga_target_pk JOIN mangasampledb.manga_target_to_nsa ON mangasampledb.manga_target.pk = mangasampledb.manga_target_to_nsa.manga_target_pk JOIN mangasampledb.nsa ON mangasampledb.nsa.pk = mangasampledb.manga_target_to_nsa.nsa_pk JOIN mangadatadb.pipeline_info AS drpalias ON drpalias.pk = mangadatadb.cube.pipeline_info_pk \\nWHERE mangasampledb.nsa.z < 0.02 AND lower(mangadatadb.ifudesign.name) = lower('1901') AND drpalias.pk = 21\""
      ]
     },
     "execution_count": 75,
     "metadata": {},
     "output_type": "execute_result"
    }
   ],
   "source": [
    "r.showQuery()"
   ]
  },
  {
   "cell_type": "code",
   "execution_count": 82,
   "metadata": {
    "collapsed": false
   },
   "outputs": [
    {
     "data": {
      "text/html": [
       "&lt;Table length=8&gt;\n",
       "<table id=\"table4784537936\">\n",
       "<thead><tr><th>mangaid</th><th>plate</th><th>name</th><th>z</th></tr></thead>\n",
       "<thead><tr><th>unicode8</th><th>int64</th><th>unicode4</th><th>float64</th></tr></thead>\n",
       "<tr><td>1-22438</td><td>7992</td><td>1901</td><td>0.0163830462843</td></tr>\n",
       "<tr><td>1-113520</td><td>7815</td><td>1901</td><td>0.0167652331293</td></tr>\n",
       "<tr><td>1-113698</td><td>8618</td><td>1901</td><td>0.0167444702238</td></tr>\n",
       "<tr><td>1-134004</td><td>8486</td><td>1901</td><td>0.018560141325</td></tr>\n",
       "<tr><td>1-155903</td><td>8439</td><td>1901</td><td>0.0163660924882</td></tr>\n",
       "<tr><td>1-167079</td><td>8459</td><td>1901</td><td>0.0157109703869</td></tr>\n",
       "<tr><td>1-209729</td><td>8549</td><td>1901</td><td>0.0195561610162</td></tr>\n",
       "<tr><td>1-277339</td><td>8254</td><td>1901</td><td>0.0192211158574</td></tr>\n",
       "</table>"
      ],
      "text/plain": [
       "<Table length=8>\n",
       "mangaid  plate   name          z       \n",
       "unicode8 int64 unicode4     float64    \n",
       "-------- ----- -------- ---------------\n",
       " 1-22438  7992     1901 0.0163830462843\n",
       "1-113520  7815     1901 0.0167652331293\n",
       "1-113698  8618     1901 0.0167444702238\n",
       "1-134004  8486     1901  0.018560141325\n",
       "1-155903  8439     1901 0.0163660924882\n",
       "1-167079  8459     1901 0.0157109703869\n",
       "1-209729  8549     1901 0.0195561610162\n",
       "1-277339  8254     1901 0.0192211158574"
      ]
     },
     "execution_count": 82,
     "metadata": {},
     "output_type": "execute_result"
    }
   ],
   "source": [
    "r.toTable()"
   ]
  },
  {
   "cell_type": "code",
   "execution_count": 83,
   "metadata": {
    "collapsed": false
   },
   "outputs": [
    {
     "data": {
      "text/html": [
       "<div>\n",
       "<table border=\"1\" class=\"dataframe\">\n",
       "  <thead>\n",
       "    <tr style=\"text-align: right;\">\n",
       "      <th></th>\n",
       "      <th>mangaid</th>\n",
       "      <th>plate</th>\n",
       "      <th>name</th>\n",
       "      <th>z</th>\n",
       "    </tr>\n",
       "  </thead>\n",
       "  <tbody>\n",
       "    <tr>\n",
       "      <th>0</th>\n",
       "      <td>1-22438</td>\n",
       "      <td>7992</td>\n",
       "      <td>1901</td>\n",
       "      <td>0.016383</td>\n",
       "    </tr>\n",
       "    <tr>\n",
       "      <th>1</th>\n",
       "      <td>1-113520</td>\n",
       "      <td>7815</td>\n",
       "      <td>1901</td>\n",
       "      <td>0.016765</td>\n",
       "    </tr>\n",
       "    <tr>\n",
       "      <th>2</th>\n",
       "      <td>1-113698</td>\n",
       "      <td>8618</td>\n",
       "      <td>1901</td>\n",
       "      <td>0.016744</td>\n",
       "    </tr>\n",
       "    <tr>\n",
       "      <th>3</th>\n",
       "      <td>1-134004</td>\n",
       "      <td>8486</td>\n",
       "      <td>1901</td>\n",
       "      <td>0.018560</td>\n",
       "    </tr>\n",
       "    <tr>\n",
       "      <th>4</th>\n",
       "      <td>1-155903</td>\n",
       "      <td>8439</td>\n",
       "      <td>1901</td>\n",
       "      <td>0.016366</td>\n",
       "    </tr>\n",
       "    <tr>\n",
       "      <th>5</th>\n",
       "      <td>1-167079</td>\n",
       "      <td>8459</td>\n",
       "      <td>1901</td>\n",
       "      <td>0.015711</td>\n",
       "    </tr>\n",
       "    <tr>\n",
       "      <th>6</th>\n",
       "      <td>1-209729</td>\n",
       "      <td>8549</td>\n",
       "      <td>1901</td>\n",
       "      <td>0.019556</td>\n",
       "    </tr>\n",
       "    <tr>\n",
       "      <th>7</th>\n",
       "      <td>1-277339</td>\n",
       "      <td>8254</td>\n",
       "      <td>1901</td>\n",
       "      <td>0.019221</td>\n",
       "    </tr>\n",
       "  </tbody>\n",
       "</table>\n",
       "</div>"
      ],
      "text/plain": [
       "    mangaid  plate  name         z\n",
       "0   1-22438   7992  1901  0.016383\n",
       "1  1-113520   7815  1901  0.016765\n",
       "2  1-113698   8618  1901  0.016744\n",
       "3  1-134004   8486  1901  0.018560\n",
       "4  1-155903   8439  1901  0.016366\n",
       "5  1-167079   8459  1901  0.015711\n",
       "6  1-209729   8549  1901  0.019556\n",
       "7  1-277339   8254  1901  0.019221"
      ]
     },
     "execution_count": 83,
     "metadata": {},
     "output_type": "execute_result"
    }
   ],
   "source": [
    "r.toDataFrame()"
   ]
  },
  {
   "cell_type": "code",
   "execution_count": 85,
   "metadata": {
    "collapsed": false
   },
   "outputs": [
    {
     "data": {
      "text/plain": [
       "'[[\"1-22438\", 7992, \"1901\", 0.016383046284318], [\"1-113520\", 7815, \"1901\", 0.0167652331292629], [\"1-113698\", 8618, \"1901\", 0.0167444702237844], [\"1-134004\", 8486, \"1901\", 0.0185601413249969], [\"1-155903\", 8439, \"1901\", 0.0163660924881697], [\"1-167079\", 8459, \"1901\", 0.0157109703868628], [\"1-209729\", 8549, \"1901\", 0.0195561610162258], [\"1-277339\", 8254, \"1901\", 0.0192211158573627]]'"
      ]
     },
     "execution_count": 85,
     "metadata": {},
     "output_type": "execute_result"
    }
   ],
   "source": [
    "r.toJson()"
   ]
  },
  {
   "cell_type": "code",
   "execution_count": 87,
   "metadata": {
    "collapsed": false
   },
   "outputs": [
    {
     "data": {
      "text/plain": [
       "[NamedTuple(mangaid=u'1-22438', plate=7992, name=u'1901', z=0.016383046284318),\n",
       " NamedTuple(mangaid=u'1-113520', plate=7815, name=u'1901', z=0.0167652331292629),\n",
       " NamedTuple(mangaid=u'1-113698', plate=8618, name=u'1901', z=0.0167444702237844),\n",
       " NamedTuple(mangaid=u'1-134004', plate=8486, name=u'1901', z=0.0185601413249969),\n",
       " NamedTuple(mangaid=u'1-155903', plate=8439, name=u'1901', z=0.0163660924881697),\n",
       " NamedTuple(mangaid=u'1-167079', plate=8459, name=u'1901', z=0.0157109703868628),\n",
       " NamedTuple(mangaid=u'1-209729', plate=8549, name=u'1901', z=0.0195561610162258),\n",
       " NamedTuple(mangaid=u'1-277339', plate=8254, name=u'1901', z=0.0192211158573627)]"
      ]
     },
     "execution_count": 87,
     "metadata": {},
     "output_type": "execute_result"
    }
   ],
   "source": [
    "r.results"
   ]
  },
  {
   "cell_type": "code",
   "execution_count": 88,
   "metadata": {
    "collapsed": false
   },
   "outputs": [
    {
     "data": {
      "text/plain": [
       "[u'mangaid', u'plate', u'name', u'z']"
      ]
     },
     "execution_count": 88,
     "metadata": {},
     "output_type": "execute_result"
    }
   ],
   "source": [
    "r.getColumns()"
   ]
  },
  {
   "cell_type": "code",
   "execution_count": 89,
   "metadata": {
    "collapsed": false
   },
   "outputs": [
    {
     "data": {
      "text/plain": [
       "['cube.mangaid', 'cube.plate', 'ifu.name', 'nsa.z']"
      ]
     },
     "execution_count": 89,
     "metadata": {},
     "output_type": "execute_result"
    }
   ],
   "source": [
    "r.mapColumnsToParams()"
   ]
  },
  {
   "cell_type": "code",
   "execution_count": 90,
   "metadata": {
    "collapsed": false
   },
   "outputs": [
    {
     "data": {
      "text/plain": [
       "[0.016383046284318,\n",
       " 0.0167652331292629,\n",
       " 0.0167444702237844,\n",
       " 0.0185601413249969,\n",
       " 0.0163660924881697,\n",
       " 0.0157109703868628,\n",
       " 0.0195561610162258,\n",
       " 0.0192211158573627]"
      ]
     },
     "execution_count": 90,
     "metadata": {},
     "output_type": "execute_result"
    }
   ],
   "source": [
    "r.getListOf('nsa.z')"
   ]
  },
  {
   "cell_type": "code",
   "execution_count": 93,
   "metadata": {
    "collapsed": false
   },
   "outputs": [
    {
     "data": {
      "text/plain": [
       "{'cube.mangaid': [u'1-22438',\n",
       "  u'1-113520',\n",
       "  u'1-113698',\n",
       "  u'1-134004',\n",
       "  u'1-155903',\n",
       "  u'1-167079',\n",
       "  u'1-209729',\n",
       "  u'1-277339'],\n",
       " 'cube.plate': [7992, 7815, 8618, 8486, 8439, 8459, 8549, 8254],\n",
       " 'ifu.name': [u'1901',\n",
       "  u'1901',\n",
       "  u'1901',\n",
       "  u'1901',\n",
       "  u'1901',\n",
       "  u'1901',\n",
       "  u'1901',\n",
       "  u'1901'],\n",
       " 'nsa.z': [0.016383046284318,\n",
       "  0.0167652331292629,\n",
       "  0.0167444702237844,\n",
       "  0.0185601413249969,\n",
       "  0.0163660924881697,\n",
       "  0.0157109703868628,\n",
       "  0.0195561610162258,\n",
       "  0.0192211158573627]}"
      ]
     },
     "execution_count": 93,
     "metadata": {},
     "output_type": "execute_result"
    }
   ],
   "source": [
    "r.getDictOf(format_type='dictlist')"
   ]
  },
  {
   "cell_type": "code",
   "execution_count": 94,
   "metadata": {
    "collapsed": false
   },
   "outputs": [
    {
     "data": {
      "text/plain": [
       "[NamedTuple(mangaid=u'1-22438', plate=7992, name=u'1901', z=0.016383046284318),\n",
       " NamedTuple(mangaid=u'1-113520', plate=7815, name=u'1901', z=0.0167652331292629),\n",
       " NamedTuple(mangaid=u'1-113698', plate=8618, name=u'1901', z=0.0167444702237844),\n",
       " NamedTuple(mangaid=u'1-134004', plate=8486, name=u'1901', z=0.0185601413249969),\n",
       " NamedTuple(mangaid=u'1-155903', plate=8439, name=u'1901', z=0.0163660924881697),\n",
       " NamedTuple(mangaid=u'1-167079', plate=8459, name=u'1901', z=0.0157109703868628),\n",
       " NamedTuple(mangaid=u'1-209729', plate=8549, name=u'1901', z=0.0195561610162258),\n",
       " NamedTuple(mangaid=u'1-277339', plate=8254, name=u'1901', z=0.0192211158573627)]"
      ]
     },
     "execution_count": 94,
     "metadata": {},
     "output_type": "execute_result"
    }
   ],
   "source": [
    "r.results"
   ]
  },
  {
   "cell_type": "code",
   "execution_count": 95,
   "metadata": {
    "collapsed": false
   },
   "outputs": [
    {
     "name": "stdout",
     "output_type": "stream",
     "text": [
      "Converting results to Marvin Cube objects\n"
     ]
    }
   ],
   "source": [
    "r.convertToTool('cube')"
   ]
  },
  {
   "cell_type": "code",
   "execution_count": 96,
   "metadata": {
    "collapsed": false
   },
   "outputs": [
    {
     "data": {
      "text/plain": [
       "[<Marvin Cube (plateifu='7992-1901', mode='remote', data_origin='api')>,\n",
       " <Marvin Cube (plateifu='7815-1901', mode='remote', data_origin='api')>,\n",
       " <Marvin Cube (plateifu='8618-1901', mode='remote', data_origin='api')>,\n",
       " <Marvin Cube (plateifu='8486-1901', mode='remote', data_origin='api')>,\n",
       " <Marvin Cube (plateifu='8439-1901', mode='remote', data_origin='api')>,\n",
       " <Marvin Cube (plateifu='8459-1901', mode='remote', data_origin='api')>,\n",
       " <Marvin Cube (plateifu='8549-1901', mode='remote', data_origin='api')>,\n",
       " <Marvin Cube (plateifu='8254-1901', mode='remote', data_origin='api')>]"
      ]
     },
     "execution_count": 96,
     "metadata": {},
     "output_type": "execute_result"
    }
   ],
   "source": [
    "r.objects"
   ]
  },
  {
   "cell_type": "code",
   "execution_count": 97,
   "metadata": {
    "collapsed": false
   },
   "outputs": [
    {
     "data": {
      "text/plain": [
       "<Marvin Cube (plateifu='7992-1901', mode='remote', data_origin='api')>"
      ]
     },
     "execution_count": 97,
     "metadata": {},
     "output_type": "execute_result"
    }
   ],
   "source": [
    "r.objects[0]"
   ]
  },
  {
   "cell_type": "code",
   "execution_count": 98,
   "metadata": {
    "collapsed": true
   },
   "outputs": [],
   "source": [
    "spax = r.objects[0][10,10]"
   ]
  },
  {
   "cell_type": "code",
   "execution_count": 99,
   "metadata": {
    "collapsed": false
   },
   "outputs": [
    {
     "data": {
      "text/plain": [
       "<Marvin Spaxel (x=10, y=10)>"
      ]
     },
     "execution_count": 99,
     "metadata": {},
     "output_type": "execute_result"
    }
   ],
   "source": [
    "spax"
   ]
  },
  {
   "cell_type": "code",
   "execution_count": 101,
   "metadata": {
    "collapsed": false
   },
   "outputs": [
    {
     "data": {
      "text/plain": [
       "<matplotlib.axes._subplots.AxesSubplot at 0x11cc76890>"
      ]
     },
     "execution_count": 101,
     "metadata": {},
     "output_type": "execute_result"
    }
   ],
   "source": [
    "spax.drp.plot()"
   ]
  },
  {
   "cell_type": "code",
   "execution_count": 102,
   "metadata": {
    "collapsed": false
   },
   "outputs": [
    {
     "name": "stdout",
     "output_type": "stream",
     "text": [
      "SDSS_ACCESS> syncing... please wait\n",
      "SDSS_ACCESS> Done!\n"
     ]
    }
   ],
   "source": [
    "r.download()"
   ]
  },
  {
   "cell_type": "code",
   "execution_count": 103,
   "metadata": {
    "collapsed": false
   },
   "outputs": [
    {
     "data": {
      "text/plain": [
       "[NamedTuple(mangaid=u'1-22438', plate=7992, name=u'1901', z=0.016383046284318),\n",
       " NamedTuple(mangaid=u'1-113520', plate=7815, name=u'1901', z=0.0167652331292629),\n",
       " NamedTuple(mangaid=u'1-113698', plate=8618, name=u'1901', z=0.0167444702237844),\n",
       " NamedTuple(mangaid=u'1-134004', plate=8486, name=u'1901', z=0.0185601413249969),\n",
       " NamedTuple(mangaid=u'1-155903', plate=8439, name=u'1901', z=0.0163660924881697),\n",
       " NamedTuple(mangaid=u'1-167079', plate=8459, name=u'1901', z=0.0157109703868628),\n",
       " NamedTuple(mangaid=u'1-209729', plate=8549, name=u'1901', z=0.0195561610162258),\n",
       " NamedTuple(mangaid=u'1-277339', plate=8254, name=u'1901', z=0.0192211158573627)]"
      ]
     },
     "execution_count": 103,
     "metadata": {},
     "output_type": "execute_result"
    }
   ],
   "source": [
    "r.results"
   ]
  },
  {
   "cell_type": "code",
   "execution_count": 104,
   "metadata": {
    "collapsed": false
   },
   "outputs": [
    {
     "data": {
      "text/plain": [
       "[NamedTuple(mangaid=u'1-167079', plate=8459, name=u'1901', z=0.0157109703868628),\n",
       " NamedTuple(mangaid=u'1-155903', plate=8439, name=u'1901', z=0.0163660924881697),\n",
       " NamedTuple(mangaid=u'1-22438', plate=7992, name=u'1901', z=0.016383046284318),\n",
       " NamedTuple(mangaid=u'1-113698', plate=8618, name=u'1901', z=0.0167444702237844),\n",
       " NamedTuple(mangaid=u'1-113520', plate=7815, name=u'1901', z=0.0167652331292629),\n",
       " NamedTuple(mangaid=u'1-134004', plate=8486, name=u'1901', z=0.0185601413249969),\n",
       " NamedTuple(mangaid=u'1-277339', plate=8254, name=u'1901', z=0.0192211158573627),\n",
       " NamedTuple(mangaid=u'1-209729', plate=8549, name=u'1901', z=0.0195561610162258)]"
      ]
     },
     "execution_count": 104,
     "metadata": {},
     "output_type": "execute_result"
    }
   ],
   "source": [
    "r.sort('nsa.z')"
   ]
  },
  {
   "cell_type": "code",
   "execution_count": 105,
   "metadata": {
    "collapsed": false
   },
   "outputs": [
    {
     "data": {
      "text/plain": [
       "[NamedTuple(mangaid=u'1-113520', plate=7815, name=u'1901', z=0.0167652331292629),\n",
       " NamedTuple(mangaid=u'1-113698', plate=8618, name=u'1901', z=0.0167444702237844),\n",
       " NamedTuple(mangaid=u'1-134004', plate=8486, name=u'1901', z=0.0185601413249969),\n",
       " NamedTuple(mangaid=u'1-155903', plate=8439, name=u'1901', z=0.0163660924881697),\n",
       " NamedTuple(mangaid=u'1-167079', plate=8459, name=u'1901', z=0.0157109703868628),\n",
       " NamedTuple(mangaid=u'1-209729', plate=8549, name=u'1901', z=0.0195561610162258),\n",
       " NamedTuple(mangaid=u'1-22438', plate=7992, name=u'1901', z=0.016383046284318),\n",
       " NamedTuple(mangaid=u'1-277339', plate=8254, name=u'1901', z=0.0192211158573627)]"
      ]
     },
     "execution_count": 105,
     "metadata": {},
     "output_type": "execute_result"
    }
   ],
   "source": [
    "r.sort('mangaid')"
   ]
  },
  {
   "cell_type": "code",
   "execution_count": null,
   "metadata": {
    "collapsed": true
   },
   "outputs": [],
   "source": []
  }
 ],
 "metadata": {
  "kernelspec": {
   "display_name": "Python 2",
   "language": "python",
   "name": "python2"
  },
  "language_info": {
   "codemirror_mode": {
    "name": "ipython",
    "version": 2
   },
   "file_extension": ".py",
   "mimetype": "text/x-python",
   "name": "python",
   "nbconvert_exporter": "python",
   "pygments_lexer": "ipython2",
   "version": "2.7.11"
  }
 },
 "nbformat": 4,
 "nbformat_minor": 0
}
