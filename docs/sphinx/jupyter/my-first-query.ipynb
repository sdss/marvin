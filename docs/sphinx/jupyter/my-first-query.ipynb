{
 "cells": [
  {
   "cell_type": "markdown",
   "metadata": {},
   "source": [
    "# My First Query\n",
    "\n",
    "One of the most powerful features of Marvin 2.0 is ability to query the newly created DRP and DAP databases. You can do this in two ways:\n",
    "1. via the **[Marvin-web Search page](https://sas.sdss.org/marvin2/search/)** or\n",
    "2. via Python (in the terminal/notebook/script) with **Marvin-tools**.\n",
    "\n",
    "The best part is that both interfaces use the same underlying query structure, so your input search will be the same. Here we will run a few queries with Marvin-tools to learn the basics of how to construct a query and also test drive some of the more advanced features that are unique to the Marvin-tools version of querying."
   ]
  },
  {
   "cell_type": "code",
   "execution_count": null,
   "metadata": {
    "collapsed": true
   },
   "outputs": [],
   "source": [
    "# Python 2/3 compatibility\n",
    "from __future__ import print_function, division, absolute_import"
   ]
  },
  {
   "cell_type": "code",
   "execution_count": null,
   "metadata": {
    "collapsed": false
   },
   "outputs": [],
   "source": [
    "from marvin import config\n",
    "config.mode = 'remote'"
   ]
  },
  {
   "cell_type": "code",
   "execution_count": null,
   "metadata": {
    "collapsed": false
   },
   "outputs": [],
   "source": [
    "from marvin.tools.query import Query"
   ]
  },
  {
   "cell_type": "markdown",
   "metadata": {},
   "source": [
    "Let's search for galaxies with M$_\\star$ > 3 $\\times$ 10$^{11}$ M$_\\odot$.\n",
    "\n",
    "To specify our search parameter, M$_\\star$, we must know the database table and name of the parameter. In this case, MaNGA uses the NASA-Sloan Atlas (NSA) for target selection so we will use the Sersic profile determination for stellar mass, which is the **`sersic_mass`** parameter of the **`nsa`** table, so our search parameter will be **`nsa.sersic_mass`**.\n",
    "\n",
    "Generically, the search parameter will take the form **`table.parameter`**."
   ]
  },
  {
   "cell_type": "code",
   "execution_count": null,
   "metadata": {
    "collapsed": true
   },
   "outputs": [],
   "source": [
    "myquery1 = 'nsa.sersic_mass > 3e11'"
   ]
  },
  {
   "cell_type": "code",
   "execution_count": null,
   "metadata": {
    "collapsed": false,
    "scrolled": false
   },
   "outputs": [],
   "source": [
    "q1 = Query(searchfilter=myquery1)\n",
    "r1 = q1.run()"
   ]
  },
  {
   "cell_type": "markdown",
   "metadata": {},
   "source": [
    "Running the query produces a **`Results`** object (**`r1`**):"
   ]
  },
  {
   "cell_type": "code",
   "execution_count": null,
   "metadata": {
    "collapsed": false
   },
   "outputs": [],
   "source": [
    "# show results\n",
    "r1.results"
   ]
  },
  {
   "cell_type": "markdown",
   "metadata": {},
   "source": [
    "We will learn how to use the features of our **`Results`** object a little bit later, but first let's revise our search to see how more complex search queries work.\n",
    "\n",
    "## Multiple Search Criteria\n",
    "\n",
    "Let's add to our search to find only galaxies with a redshift less than 0.1.\n",
    "\n",
    "Redshift is the **`z`** parameter and is also in the **`nsa`** table, so its full search parameter designation is **`nsa.z`**."
   ]
  },
  {
   "cell_type": "code",
   "execution_count": null,
   "metadata": {
    "collapsed": true
   },
   "outputs": [],
   "source": [
    "myquery2 = 'nsa.sersic_mass > 3e11 AND nsa.z < 0.1'"
   ]
  },
  {
   "cell_type": "code",
   "execution_count": null,
   "metadata": {
    "collapsed": false,
    "scrolled": true
   },
   "outputs": [],
   "source": [
    "q2 = Query(searchfilter=myquery2)\n",
    "r2 = q2.run()"
   ]
  },
  {
   "cell_type": "code",
   "execution_count": null,
   "metadata": {
    "collapsed": false,
    "scrolled": true
   },
   "outputs": [],
   "source": [
    "r2.results"
   ]
  },
  {
   "cell_type": "markdown",
   "metadata": {},
   "source": [
    "## Compound Search Statements\n",
    "\n",
    "We were hoping for a few more than 3 galaxies, so let's try to increase our search by broadening the criteria to also include galaxies with 127 fiber IFUs and a b/a ratio of at least 0.95.\n",
    "\n",
    "To find 127 fiber IFUs, we'll use the **`name`** parameter of the **`ifu`** table, which means the full search parameter is **`ifu.name`**. However, **`ifu.name`** returns the IFU design name, such as `12701`, so we need to to set the value to `127*`.\n",
    "\n",
    "The b/a ratio is in **`nsa`** table as the **`ba90`** parameter.\n",
    "\n",
    "We're also going to join this to or previous query with an **`OR`** operator and use parentheses to group our individual search statements into a compound search statement."
   ]
  },
  {
   "cell_type": "code",
   "execution_count": null,
   "metadata": {
    "collapsed": true
   },
   "outputs": [],
   "source": [
    "myquery3 = '(nsa.sersic_mass > 3e11 AND nsa.z < 0.1) OR (ifu.name=127* AND nsa.ba90 >= 0.95)'"
   ]
  },
  {
   "cell_type": "code",
   "execution_count": null,
   "metadata": {
    "collapsed": false,
    "scrolled": true
   },
   "outputs": [],
   "source": [
    "q3 = Query(searchfilter=myquery3)\n",
    "r3 = q3.run()"
   ]
  },
  {
   "cell_type": "code",
   "execution_count": null,
   "metadata": {
    "collapsed": false,
    "scrolled": true
   },
   "outputs": [],
   "source": [
    "r3.results"
   ]
  },
  {
   "cell_type": "markdown",
   "metadata": {},
   "source": [
    "## Design Your Own Search\n",
    "\n",
    "OK, now it's your turn to try designing a search.\n",
    "\n",
    "**Exercise**: Write a search filter that will find galaxies with a redshift less than 0.02 that were observed with the 1901 IFU?"
   ]
  },
  {
   "cell_type": "code",
   "execution_count": null,
   "metadata": {
    "collapsed": true
   },
   "outputs": [],
   "source": [
    "# Enter your search here"
   ]
  },
  {
   "cell_type": "markdown",
   "metadata": {},
   "source": [
    "You should get 8 results:\n",
    "\n",
    "`[NamedTuple(mangaid='1-22438', plate=7992, name='1901', z=0.016383046284318),\n",
    " NamedTuple(mangaid='1-113520', plate=7815, name='1901', z=0.0167652331292629),\n",
    " NamedTuple(mangaid='1-113698', plate=8618, name='1901', z=0.0167444702237844),\n",
    " NamedTuple(mangaid='1-134004', plate=8486, name='1901', z=0.0185601413249969),\n",
    " NamedTuple(mangaid='1-155903', plate=8439, name='1901', z=0.0163660924881697),\n",
    " NamedTuple(mangaid='1-167079', plate=8459, name='1901', z=0.0157109703868628),\n",
    " NamedTuple(mangaid='1-209729', plate=8549, name='1901', z=0.0195561610162258),\n",
    " NamedTuple(mangaid='1-277339', plate=8254, name='1901', z=0.0192211158573627)]`"
   ]
  },
  {
   "cell_type": "markdown",
   "metadata": {},
   "source": [
    "## Finding the Available Parameters\n",
    "Now you might want to go out and try all of the interesting queries that you've been saving up, but you don't know what the parameters are called or what database table they are in. \n",
    "\n",
    "You can find all of the availabale parameters by:\n",
    "1. clicking on in the **Return Parameters** dropdown menu on the left side of the **[Marvin-web Search page](https://sas.sdss.org/marvin2/search/)**,\n",
    "2. reading the **[Marvin Docs page](https://api.sdss.org/doc/manga/marvin/refactor/query_params.html#marvin-query-parameters)**, or\n",
    "3. via **Marvin-tools** (see next two cells)"
   ]
  },
  {
   "cell_type": "code",
   "execution_count": null,
   "metadata": {
    "collapsed": true
   },
   "outputs": [],
   "source": [
    "# You might have to do an svn update to get this to work (otherwise try the next cell)\n",
    "q = Query()\n",
    "q.get_available_params()"
   ]
  },
  {
   "cell_type": "code",
   "execution_count": null,
   "metadata": {
    "collapsed": true
   },
   "outputs": [],
   "source": [
    "# try this if the previous cell didn't return a list of parameters\n",
    "from marvin.api.api import Interaction\n",
    "from pprint import pprint\n",
    "url = config.urlmap['api']['getparams']['url']\n",
    "ii = Interaction(route=url)\n",
    "mykeys = ii.getData()\n",
    "pprint(mykeys)"
   ]
  },
  {
   "cell_type": "markdown",
   "metadata": {},
   "source": [
    "Go ahead and try to create some new searches on your own from the parameter list. Please feel free to also try out the some of the same search on the **[Marvin-web Search page](https://sas.sdss.org/marvin2/search/)**."
   ]
  },
  {
   "cell_type": "markdown",
   "metadata": {},
   "source": [
    "## Returning Bonus Parameters\n",
    "\n",
    "Often you want to run a query and see the value of parameters that you didn't explicitly search on. For instance, you want to find galaxies above a redshift of 0.1 and would like to know their RA and DECs.\n",
    "\n",
    "In Marvin-tools, this is as easy as specifying the **`returnparams`** option with either a string (for a single bonus parameter) or a list of strings (for multiple bonus parameters)."
   ]
  },
  {
   "cell_type": "code",
   "execution_count": null,
   "metadata": {
    "collapsed": false,
    "scrolled": true
   },
   "outputs": [],
   "source": [
    "myquery5 = 'nsa.z > 0.1'\n",
    "bonusparams5 = ['cube.ra', 'cube.dec']\n",
    "# bonusparams5 = 'cube.ra'  # This works too\n",
    "\n",
    "q5 = Query(searchfilter=myquery5, returnparams=bonusparams5)\n",
    "r5 = q5.run()"
   ]
  },
  {
   "cell_type": "code",
   "execution_count": null,
   "metadata": {
    "collapsed": true
   },
   "outputs": [],
   "source": [
    "r5.results"
   ]
  },
  {
   "cell_type": "markdown",
   "metadata": {},
   "source": [
    "Next time, we'll take a closer look at the **`Results`** class and its built in MaNGA convenience functions."
   ]
  },
  {
   "cell_type": "markdown",
   "metadata": {},
   "source": [
    "## Useful Resources\n",
    "\n",
    "Check out these pages on the Marvin Docs site for more **`Query`** tips and tricks.\n",
    "\n",
    "- **[Query](https://api.sdss.org/doc/manga/marvin/refactor/query.html)**\n",
    "- **[Example Queries](https://api.sdss.org/doc/manga/marvin/refactor/tutorials/query-examples.html)**\n",
    "- **[Results](https://api.sdss.org/doc/manga/marvin/refactor/results.htmlpages)** \n",
    "- **[Boolean Search Tutorial](https://api.sdss.org/doc/manga/marvin/refactor/tutorials/boolean-search-tutorial.html)**"
   ]
  },
  {
   "cell_type": "code",
   "execution_count": null,
   "metadata": {
    "collapsed": true
   },
   "outputs": [],
   "source": []
  }
 ],
 "metadata": {
  "kernelspec": {
   "display_name": "Python 3",
   "language": "python",
   "name": "python3"
  },
  "language_info": {
   "codemirror_mode": {
    "name": "ipython",
    "version": 3
   },
   "file_extension": ".py",
   "mimetype": "text/x-python",
   "name": "python",
   "nbconvert_exporter": "python",
   "pygments_lexer": "ipython3",
   "version": "3.4.4"
  }
 },
 "nbformat": 4,
 "nbformat_minor": 0
}
